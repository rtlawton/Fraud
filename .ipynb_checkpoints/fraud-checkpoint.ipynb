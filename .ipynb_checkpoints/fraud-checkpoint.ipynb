{
 "cells": [
  {
   "cell_type": "markdown",
   "id": "b2ac77d9",
   "metadata": {},
   "source": [
    "# FRAUD CLASSIFICATION FROM CUSTOMER / TRANSACTION DATA\n",
    "**Objective** is to build a model to predict fraudulent online transactions on the basis of information about the customer and the circumstances of the transaction. Fraud costs around 2% of all online revenues, and the prevention of fraud is a major and evolving task in data science.<br><br> Two data files are provided: one with customer information and one with transaction information. They are linked by the customer's email address."
   ]
  },
  {
   "cell_type": "markdown",
   "id": "1ae67a48",
   "metadata": {},
   "source": [
    "**Contents:**\n",
    "1. [Exploratory data analysis](#s1)\n",
    "2. [Feature engineering](#s2)\n",
    "3. [Model building](#s3)\n",
    "4. [Model evaluation](#s4)\n",
    "5. [Conclusions](#s5)"
   ]
  },
  {
   "cell_type": "code",
   "execution_count": 1,
   "id": "26ca05bf",
   "metadata": {},
   "outputs": [],
   "source": [
    "import pandas as pd\n",
    "import numpy as np\n",
    "import seaborn as sns\n",
    "import matplotlib.pyplot as plt\n",
    "%matplotlib inline"
   ]
  },
  {
   "cell_type": "code",
   "execution_count": 2,
   "id": "004a9810",
   "metadata": {},
   "outputs": [],
   "source": [
    "cust = pd.read_csv(\"Customer_DF.csv\",index_col=0)\n",
    "trans = pd.read_csv(\"cust_transaction_details.csv\",index_col=0)"
   ]
  },
  {
   "cell_type": "markdown",
   "id": "4a6bfd0b",
   "metadata": {},
   "source": [
    "## 1. Exploratory data analysis<a id='s1'></a>"
   ]
  },
  {
   "cell_type": "markdown",
   "id": "586aee07",
   "metadata": {},
   "source": [
    "### 1.1 Customer file\n",
    "#### Overview"
   ]
  },
  {
   "cell_type": "code",
   "execution_count": 3,
   "id": "80659d40",
   "metadata": {},
   "outputs": [
    {
     "data": {
      "text/html": [
       "<div>\n",
       "<style scoped>\n",
       "    .dataframe tbody tr th:only-of-type {\n",
       "        vertical-align: middle;\n",
       "    }\n",
       "\n",
       "    .dataframe tbody tr th {\n",
       "        vertical-align: top;\n",
       "    }\n",
       "\n",
       "    .dataframe thead th {\n",
       "        text-align: right;\n",
       "    }\n",
       "</style>\n",
       "<table border=\"1\" class=\"dataframe\">\n",
       "  <thead>\n",
       "    <tr style=\"text-align: right;\">\n",
       "      <th></th>\n",
       "      <th>customerEmail</th>\n",
       "      <th>customerPhone</th>\n",
       "      <th>customerDevice</th>\n",
       "      <th>customerIPAddress</th>\n",
       "      <th>customerBillingAddress</th>\n",
       "      <th>No_Transactions</th>\n",
       "      <th>No_Orders</th>\n",
       "      <th>No_Payments</th>\n",
       "      <th>Fraud</th>\n",
       "    </tr>\n",
       "  </thead>\n",
       "  <tbody>\n",
       "    <tr>\n",
       "      <th>0</th>\n",
       "      <td>josephhoward@yahoo.com</td>\n",
       "      <td>400-108-5415</td>\n",
       "      <td>yyeiaxpltf82440jnb3v</td>\n",
       "      <td>8.129.104.40</td>\n",
       "      <td>5493 Jones Islands\\nBrownside, CA 51896</td>\n",
       "      <td>2</td>\n",
       "      <td>2</td>\n",
       "      <td>1</td>\n",
       "      <td>False</td>\n",
       "    </tr>\n",
       "    <tr>\n",
       "      <th>1</th>\n",
       "      <td>evansjeffery@yahoo.com</td>\n",
       "      <td>1-788-091-7546</td>\n",
       "      <td>r0jpm7xaeqqa3kr6mzum</td>\n",
       "      <td>219.173.211.202</td>\n",
       "      <td>356 Elizabeth Inlet Suite 120\\nPort Joshuabury...</td>\n",
       "      <td>3</td>\n",
       "      <td>3</td>\n",
       "      <td>7</td>\n",
       "      <td>True</td>\n",
       "    </tr>\n",
       "    <tr>\n",
       "      <th>2</th>\n",
       "      <td>andersonwilliam@yahoo.com</td>\n",
       "      <td>024.420.0375</td>\n",
       "      <td>4m7h5ipl1shyavt6vv2r</td>\n",
       "      <td>67b7:3db8:67e0:3bea:b9d0:90c1:2b60:b9f0</td>\n",
       "      <td>8478 Sean Ridges Apt. 441\\nDavisberg, PR 72250</td>\n",
       "      <td>5</td>\n",
       "      <td>3</td>\n",
       "      <td>2</td>\n",
       "      <td>False</td>\n",
       "    </tr>\n",
       "    <tr>\n",
       "      <th>3</th>\n",
       "      <td>rubenjuarez@yahoo.com</td>\n",
       "      <td>670.664.8168x94985</td>\n",
       "      <td>slovx60t0i558may4ks0</td>\n",
       "      <td>95de:8565:5a66:792c:26e0:6cfb:7d87:11af</td>\n",
       "      <td>7769 Elizabeth Bridge Apt. 343\\nNortonstad, FM...</td>\n",
       "      <td>3</td>\n",
       "      <td>3</td>\n",
       "      <td>1</td>\n",
       "      <td>False</td>\n",
       "    </tr>\n",
       "    <tr>\n",
       "      <th>4</th>\n",
       "      <td>uchen@malone.com</td>\n",
       "      <td>1-981-877-0870</td>\n",
       "      <td>j0pd24k5h8dl2fqu0cz4</td>\n",
       "      <td>196.89.235.192</td>\n",
       "      <td>148 Russell Lodge Apt. 445\\nPort Jenniferside,...</td>\n",
       "      <td>7</td>\n",
       "      <td>7</td>\n",
       "      <td>6</td>\n",
       "      <td>True</td>\n",
       "    </tr>\n",
       "  </tbody>\n",
       "</table>\n",
       "</div>"
      ],
      "text/plain": [
       "               customerEmail       customerPhone        customerDevice  \\\n",
       "0     josephhoward@yahoo.com        400-108-5415  yyeiaxpltf82440jnb3v   \n",
       "1     evansjeffery@yahoo.com      1-788-091-7546  r0jpm7xaeqqa3kr6mzum   \n",
       "2  andersonwilliam@yahoo.com        024.420.0375  4m7h5ipl1shyavt6vv2r   \n",
       "3      rubenjuarez@yahoo.com  670.664.8168x94985  slovx60t0i558may4ks0   \n",
       "4           uchen@malone.com      1-981-877-0870  j0pd24k5h8dl2fqu0cz4   \n",
       "\n",
       "                         customerIPAddress  \\\n",
       "0                             8.129.104.40   \n",
       "1                          219.173.211.202   \n",
       "2  67b7:3db8:67e0:3bea:b9d0:90c1:2b60:b9f0   \n",
       "3  95de:8565:5a66:792c:26e0:6cfb:7d87:11af   \n",
       "4                           196.89.235.192   \n",
       "\n",
       "                              customerBillingAddress  No_Transactions  \\\n",
       "0            5493 Jones Islands\\nBrownside, CA 51896                2   \n",
       "1  356 Elizabeth Inlet Suite 120\\nPort Joshuabury...                3   \n",
       "2     8478 Sean Ridges Apt. 441\\nDavisberg, PR 72250                5   \n",
       "3  7769 Elizabeth Bridge Apt. 343\\nNortonstad, FM...                3   \n",
       "4  148 Russell Lodge Apt. 445\\nPort Jenniferside,...                7   \n",
       "\n",
       "   No_Orders  No_Payments  Fraud  \n",
       "0          2            1  False  \n",
       "1          3            7   True  \n",
       "2          3            2  False  \n",
       "3          3            1  False  \n",
       "4          7            6   True  "
      ]
     },
     "execution_count": 3,
     "metadata": {},
     "output_type": "execute_result"
    }
   ],
   "source": [
    "cust.head()"
   ]
  },
  {
   "cell_type": "code",
   "execution_count": 4,
   "id": "85e2b452",
   "metadata": {},
   "outputs": [
    {
     "name": "stdout",
     "output_type": "stream",
     "text": [
      "<class 'pandas.core.frame.DataFrame'>\n",
      "Int64Index: 168 entries, 0 to 167\n",
      "Data columns (total 9 columns):\n",
      " #   Column                  Non-Null Count  Dtype \n",
      "---  ------                  --------------  ----- \n",
      " 0   customerEmail           168 non-null    object\n",
      " 1   customerPhone           168 non-null    object\n",
      " 2   customerDevice          168 non-null    object\n",
      " 3   customerIPAddress       168 non-null    object\n",
      " 4   customerBillingAddress  168 non-null    object\n",
      " 5   No_Transactions         168 non-null    int64 \n",
      " 6   No_Orders               168 non-null    int64 \n",
      " 7   No_Payments             168 non-null    int64 \n",
      " 8   Fraud                   168 non-null    bool  \n",
      "dtypes: bool(1), int64(3), object(5)\n",
      "memory usage: 12.0+ KB\n"
     ]
    }
   ],
   "source": [
    "cust.info()"
   ]
  },
  {
   "cell_type": "markdown",
   "id": "2956d868",
   "metadata": {},
   "source": [
    "#### Balance of classification: imbalanced but not excessively"
   ]
  },
  {
   "cell_type": "code",
   "execution_count": 5,
   "id": "766e5a09",
   "metadata": {},
   "outputs": [
    {
     "name": "stdout",
     "output_type": "stream",
     "text": [
      "Mean fraud level: 0.363\n"
     ]
    },
    {
     "data": {
      "image/png": "[encoded data removed]",
      "text/plain": [
       "<Figure size 432x288 with 1 Axes>"
      ]
     },
     "metadata": {},
     "output_type": "display_data"
    }
   ],
   "source": [
    "sns.set_style('whitegrid')\n",
    "sns.countplot(x='Fraud',data=cust,palette='RdBu_r')\n",
    "print(f\"Mean fraud level: {cust['Fraud'].mean():.3f}\")"
   ]
  },
  {
   "cell_type": "markdown",
   "id": "2395774e",
   "metadata": {},
   "source": [
    "#### Data uniqueness: "
   ]
  },
  {
   "cell_type": "code",
   "execution_count": 6,
   "id": "e5e1b964",
   "metadata": {},
   "outputs": [
    {
     "data": {
      "text/plain": [
       "customerEmail             161\n",
       "customerPhone             168\n",
       "customerDevice            168\n",
       "customerIPAddress         165\n",
       "customerBillingAddress    166\n",
       "No_Transactions            13\n",
       "No_Orders                   9\n",
       "No_Payments                11\n",
       "Fraud                       2\n",
       "dtype: int64"
      ]
     },
     "execution_count": 6,
     "metadata": {},
     "output_type": "execute_result"
    }
   ],
   "source": [
    "cust.nunique()"
   ]
  },
  {
   "cell_type": "markdown",
   "id": "e7b295f9",
   "metadata": {},
   "source": [
    "Interesting - there are 7 non-unique email addresses, which should be the unique customer id for joining to the transactions data. This is going to create a problem for joining the data sets later. Let's examine those rows:"
   ]
  },
  {
   "cell_type": "code",
   "execution_count": 7,
   "id": "d818d950",
   "metadata": {},
   "outputs": [
    {
     "data": {
      "text/html": [
       "<div>\n",
       "<style scoped>\n",
       "    .dataframe tbody tr th:only-of-type {\n",
       "        vertical-align: middle;\n",
       "    }\n",
       "\n",
       "    .dataframe tbody tr th {\n",
       "        vertical-align: top;\n",
       "    }\n",
       "\n",
       "    .dataframe thead th {\n",
       "        text-align: right;\n",
       "    }\n",
       "</style>\n",
       "<table border=\"1\" class=\"dataframe\">\n",
       "  <thead>\n",
       "    <tr style=\"text-align: right;\">\n",
       "      <th></th>\n",
       "      <th>customerEmail</th>\n",
       "      <th>customerPhone</th>\n",
       "      <th>customerDevice</th>\n",
       "      <th>customerIPAddress</th>\n",
       "      <th>customerBillingAddress</th>\n",
       "      <th>No_Transactions</th>\n",
       "      <th>No_Orders</th>\n",
       "      <th>No_Payments</th>\n",
       "      <th>Fraud</th>\n",
       "    </tr>\n",
       "  </thead>\n",
       "  <tbody>\n",
       "    <tr>\n",
       "      <th>7</th>\n",
       "      <td>johnlowery@gmail.com</td>\n",
       "      <td>044-642-9860</td>\n",
       "      <td>rjb0adai34izqvys4938</td>\n",
       "      <td>212.144.68.190</td>\n",
       "      <td>484 Pamela Pass\\nLake Jessicaview, WI 12942-9074</td>\n",
       "      <td>6</td>\n",
       "      <td>5</td>\n",
       "      <td>2</td>\n",
       "      <td>True</td>\n",
       "    </tr>\n",
       "    <tr>\n",
       "      <th>40</th>\n",
       "      <td>johnlowery@gmail.com</td>\n",
       "      <td>737-377-9701x577</td>\n",
       "      <td>jz66ap43id2y35ivfqa5</td>\n",
       "      <td>6c21:ac1d:2089:68fa:abb7:8c00:525f:6588</td>\n",
       "      <td>08238 Kyle Squares Suite 893\\nMillermouth, IN ...</td>\n",
       "      <td>0</td>\n",
       "      <td>0</td>\n",
       "      <td>1</td>\n",
       "      <td>True</td>\n",
       "    </tr>\n",
       "    <tr>\n",
       "      <th>45</th>\n",
       "      <td>johnlowery@gmail.com</td>\n",
       "      <td>+16(4)9016414340</td>\n",
       "      <td>cdx178qymd6vy77nm4x3</td>\n",
       "      <td>222.79.159.140</td>\n",
       "      <td>77711 Pamela Ridge\\nNew Kayla, IL 27182</td>\n",
       "      <td>3</td>\n",
       "      <td>2</td>\n",
       "      <td>1</td>\n",
       "      <td>True</td>\n",
       "    </tr>\n",
       "    <tr>\n",
       "      <th>65</th>\n",
       "      <td>johnlowery@gmail.com</td>\n",
       "      <td>04712252182</td>\n",
       "      <td>311kdz4c1210iixltk2j</td>\n",
       "      <td>42b3:df19:86fe:abd9:dafe:f6c1:eb76:c72</td>\n",
       "      <td>11704 Andrew Villages Apt. 035\\nJamesfurt, OR ...</td>\n",
       "      <td>7</td>\n",
       "      <td>5</td>\n",
       "      <td>1</td>\n",
       "      <td>True</td>\n",
       "    </tr>\n",
       "    <tr>\n",
       "      <th>79</th>\n",
       "      <td>johnlowery@gmail.com</td>\n",
       "      <td>1-820-539-4726x993</td>\n",
       "      <td>2in0fh7lep289n8dcbdz</td>\n",
       "      <td>163.128.139.42</td>\n",
       "      <td>814 Wagner Union\\nAshleymouth, HI 35617</td>\n",
       "      <td>2</td>\n",
       "      <td>2</td>\n",
       "      <td>1</td>\n",
       "      <td>True</td>\n",
       "    </tr>\n",
       "    <tr>\n",
       "      <th>133</th>\n",
       "      <td>johnlowery@gmail.com</td>\n",
       "      <td>1-143-059-1833</td>\n",
       "      <td>tyijaify2hqadwslejyr</td>\n",
       "      <td>e4c:fb48:8ee2:9819:6ae8:8d3f:3b6a:a788</td>\n",
       "      <td>518 Wood Mews Apt. 970\\nDillonstad, NE 43317-3945</td>\n",
       "      <td>0</td>\n",
       "      <td>0</td>\n",
       "      <td>0</td>\n",
       "      <td>True</td>\n",
       "    </tr>\n",
       "    <tr>\n",
       "      <th>155</th>\n",
       "      <td>johnlowery@gmail.com</td>\n",
       "      <td>076-099-0630x72770</td>\n",
       "      <td>6qy6oa3nqutsyyxzc54c</td>\n",
       "      <td>f259:657f:f329:2fca:c06c:8b57:d6ac:2380</td>\n",
       "      <td>687 Rogers Bridge Suite 780\\nValdezburgh, IN 2...</td>\n",
       "      <td>6</td>\n",
       "      <td>5</td>\n",
       "      <td>3</td>\n",
       "      <td>True</td>\n",
       "    </tr>\n",
       "    <tr>\n",
       "      <th>165</th>\n",
       "      <td>johnlowery@gmail.com</td>\n",
       "      <td>635.676.0955x524</td>\n",
       "      <td>969zz9zdj8z4gns4sx5p</td>\n",
       "      <td>f82c:811f:8a02:e2d6:79b:fcaa:42de:570b</td>\n",
       "      <td>548 Bryant Inlet\\nVeronicaside, OK 00522</td>\n",
       "      <td>4</td>\n",
       "      <td>4</td>\n",
       "      <td>2</td>\n",
       "      <td>True</td>\n",
       "    </tr>\n",
       "  </tbody>\n",
       "</table>\n",
       "</div>"
      ],
      "text/plain": [
       "            customerEmail       customerPhone        customerDevice  \\\n",
       "7    johnlowery@gmail.com        044-642-9860  rjb0adai34izqvys4938   \n",
       "40   johnlowery@gmail.com    737-377-9701x577  jz66ap43id2y35ivfqa5   \n",
       "45   johnlowery@gmail.com    +16(4)9016414340  cdx178qymd6vy77nm4x3   \n",
       "65   johnlowery@gmail.com         04712252182  311kdz4c1210iixltk2j   \n",
       "79   johnlowery@gmail.com  1-820-539-4726x993  2in0fh7lep289n8dcbdz   \n",
       "133  johnlowery@gmail.com      1-143-059-1833  tyijaify2hqadwslejyr   \n",
       "155  johnlowery@gmail.com  076-099-0630x72770  6qy6oa3nqutsyyxzc54c   \n",
       "165  johnlowery@gmail.com    635.676.0955x524  969zz9zdj8z4gns4sx5p   \n",
       "\n",
       "                           customerIPAddress  \\\n",
       "7                             212.144.68.190   \n",
       "40   6c21:ac1d:2089:68fa:abb7:8c00:525f:6588   \n",
       "45                            222.79.159.140   \n",
       "65    42b3:df19:86fe:abd9:dafe:f6c1:eb76:c72   \n",
       "79                            163.128.139.42   \n",
       "133   e4c:fb48:8ee2:9819:6ae8:8d3f:3b6a:a788   \n",
       "155  f259:657f:f329:2fca:c06c:8b57:d6ac:2380   \n",
       "165   f82c:811f:8a02:e2d6:79b:fcaa:42de:570b   \n",
       "\n",
       "                                customerBillingAddress  No_Transactions  \\\n",
       "7     484 Pamela Pass\\nLake Jessicaview, WI 12942-9074                6   \n",
       "40   08238 Kyle Squares Suite 893\\nMillermouth, IN ...                0   \n",
       "45             77711 Pamela Ridge\\nNew Kayla, IL 27182                3   \n",
       "65   11704 Andrew Villages Apt. 035\\nJamesfurt, OR ...                7   \n",
       "79             814 Wagner Union\\nAshleymouth, HI 35617                2   \n",
       "133  518 Wood Mews Apt. 970\\nDillonstad, NE 43317-3945                0   \n",
       "155  687 Rogers Bridge Suite 780\\nValdezburgh, IN 2...                6   \n",
       "165           548 Bryant Inlet\\nVeronicaside, OK 00522                4   \n",
       "\n",
       "     No_Orders  No_Payments  Fraud  \n",
       "7            5            2   True  \n",
       "40           0            1   True  \n",
       "45           2            1   True  \n",
       "65           5            1   True  \n",
       "79           2            1   True  \n",
       "133          0            0   True  \n",
       "155          5            3   True  \n",
       "165          4            2   True  "
      ]
     },
     "execution_count": 7,
     "metadata": {},
     "output_type": "execute_result"
    }
   ],
   "source": [
    "cust[cust.duplicated(subset=['customerEmail'],keep=False)]"
   ]
  },
  {
   "cell_type": "markdown",
   "id": "09b3059e",
   "metadata": {},
   "source": [
    "Hmm - this fraudster manages to maintain 8 different phone numbers, devices, IP addresses, billing addresses, but only one email address! Let's remember to add a flag for duplicated email address to the features."
   ]
  },
  {
   "cell_type": "markdown",
   "id": "bbbaff2a",
   "metadata": {},
   "source": [
    "#### Numerical features (No_Transactions, No_Orders, No_Payments):\n",
    "Transactions and orders have a degree of correlation, but payments are independent"
   ]
  },
  {
   "cell_type": "code",
   "execution_count": 9,
   "id": "fe903aae",
   "metadata": {},
   "outputs": [
    {
     "data": {
      "text/plain": [
       "<seaborn.axisgrid.PairGrid at 0x7ff580061d90>"
      ]
     },
     "execution_count": 9,
     "metadata": {},
     "output_type": "execute_result"
    },
    {
     "data": {
      "image/png": "[encoded data removed]",
      "text/plain": [
       "<Figure size 540x540 with 12 Axes>"
      ]
     },
     "metadata": {},
     "output_type": "display_data"
    }
   ],
   "source": [
    "\n",
    "sns.pairplot(cust[['No_Transactions','No_Orders','No_Payments']])"
   ]
  },
  {
   "cell_type": "markdown",
   "id": "819d753c",
   "metadata": {},
   "source": [
    "Fraud incidence correlates with higher values of all three features, but particulary No_Payments:"
   ]
  },
  {
   "cell_type": "code",
   "execution_count": 10,
   "id": "e26bd924",
   "metadata": {},
   "outputs": [
    {
     "data": {
      "image/png": "[encoded data removed]",
      "text/plain": [
       "<Figure size 432x288 with 3 Axes>"
      ]
     },
     "metadata": {},
     "output_type": "display_data"
    }
   ],
   "source": [
    "fig, ax =plt.subplots(1,3)\n",
    "sns.boxplot(x=\"Fraud\", y=\"No_Transactions\", data=cust, ax=ax[0])\n",
    "sns.boxplot(x=\"Fraud\", y=\"No_Orders\", data=cust, ax=ax[1])\n",
    "sns.boxplot(x=\"Fraud\", y=\"No_Payments\", data=cust, ax=ax[2])\n",
    "fig.tight_layout()"
   ]
  },
  {
   "cell_type": "markdown",
   "id": "2951fd32",
   "metadata": {},
   "source": [
    "#### Descriptive features (Email, Phone, Device, IPAddress, BillingAddress):"
   ]
  },
  {
   "cell_type": "markdown",
   "id": "0a09f7ca",
   "metadata": {},
   "source": [
    "**Email address** potentially could provide useful information. First is the email address correctly formed? Does this impact on incidence of fraud? In fact there are 4 incorrectly formed email adresses and they all relate to fraudulent transactions."
   ]
  },
  {
   "cell_type": "code",
   "execution_count": 3,
   "id": "44353a15",
   "metadata": {},
   "outputs": [
    {
     "data": {
      "text/plain": [
       "valid_email\n",
       "0      4\n",
       "1    164\n",
       "Name: Fraud, dtype: int64"
      ]
     },
     "execution_count": 3,
     "metadata": {},
     "output_type": "execute_result"
    }
   ],
   "source": [
    "import re\n",
    "regex = '''(?:[a-z0-9!#$%&'*+/=?^_`{|}~-]+(?:\\.[a-z0-9!#$%&'*+/=?^_`{|}~-]+)*|\"(?:[\\x01-\\x08\\x0b\\x0c\\x0e-\\x1f\\x21\\x23-\\x5b\\x5d-\\x7f]|\\\\[\\x01-\\x09\\x0b\\x0c\\x0e-\\x7f])*\")@(?:(?:[a-z0-9](?:[a-z0-9-]*[a-z0-9])?\\.)+[a-z0-9](?:[a-z0-9-]*[a-z0-9])?|\\[(?:(?:(2(5[0-5]|[0-4][0-9])|1[0-9][0-9]|[1-9]?[0-9]))\\.){3}(?:(2(5[0-5]|[0-4][0-9])|1[0-9][0-9]|[1-9]?[0-9])|[a-z0-9-]*[a-z0-9]:(?:[\\x01-\\x08\\x0b\\x0c\\x0e-\\x1f\\x21-\\x5a\\x53-\\x7f]|\\\\[\\x01-\\x09\\x0b\\x0c\\x0e-\\x7f])+)\\])'''\n",
    "cust['valid_email'] = cust['customerEmail'].apply(lambda x: int(bool(re.fullmatch(regex,x))))\n",
    "cust.groupby('valid_email').count()[\"Fraud\"]"
   ]
  },
  {
   "cell_type": "code",
   "execution_count": 12,
   "id": "f33f83fc",
   "metadata": {},
   "outputs": [
    {
     "data": {
      "text/plain": [
       "<AxesSubplot:xlabel='valid_email', ylabel='count'>"
      ]
     },
     "execution_count": 12,
     "metadata": {},
     "output_type": "execute_result"
    },
    {
     "data": {
      "image/png": "[encoded data removed]",
      "text/plain": [
       "<Figure size 432x288 with 1 Axes>"
      ]
     },
     "metadata": {},
     "output_type": "display_data"
    }
   ],
   "source": [
    "\n",
    "sns.countplot(x='valid_email',hue='Fraud',data=cust)"
   ]
  },
  {
   "cell_type": "markdown",
   "id": "e426110f",
   "metadata": {},
   "source": [
    "**Email address** could also provide information through the domain name. Are some domains more associated with fraudsters? In fact this is so. gmail.com is more than twice as likely to be associated with fraud as yahoo.com. There are a large number of \"other\" domain names which will need to be aggregated for use as a variable."
   ]
  },
  {
   "cell_type": "code",
   "execution_count": 13,
   "id": "ec84d24d",
   "metadata": {},
   "outputs": [
    {
     "data": {
      "text/html": [
       "<div>\n",
       "<style scoped>\n",
       "    .dataframe tbody tr th:only-of-type {\n",
       "        vertical-align: middle;\n",
       "    }\n",
       "\n",
       "    .dataframe tbody tr th {\n",
       "        vertical-align: top;\n",
       "    }\n",
       "\n",
       "    .dataframe thead tr th {\n",
       "        text-align: left;\n",
       "    }\n",
       "\n",
       "    .dataframe thead tr:last-of-type th {\n",
       "        text-align: right;\n",
       "    }\n",
       "</style>\n",
       "<table border=\"1\" class=\"dataframe\">\n",
       "  <thead>\n",
       "    <tr>\n",
       "      <th></th>\n",
       "      <th colspan=\"2\" halign=\"left\">Fraud</th>\n",
       "    </tr>\n",
       "    <tr>\n",
       "      <th></th>\n",
       "      <th>mean</th>\n",
       "      <th>count</th>\n",
       "    </tr>\n",
       "    <tr>\n",
       "      <th>edomain</th>\n",
       "      <th></th>\n",
       "      <th></th>\n",
       "    </tr>\n",
       "  </thead>\n",
       "  <tbody>\n",
       "    <tr>\n",
       "      <th>gmail.com</th>\n",
       "      <td>0.483871</td>\n",
       "      <td>31</td>\n",
       "    </tr>\n",
       "    <tr>\n",
       "      <th>yahoo.com</th>\n",
       "      <td>0.206897</td>\n",
       "      <td>29</td>\n",
       "    </tr>\n",
       "    <tr>\n",
       "      <th>hotmail.com</th>\n",
       "      <td>0.260870</td>\n",
       "      <td>23</td>\n",
       "    </tr>\n",
       "    <tr>\n",
       "      <th>wright.com</th>\n",
       "      <td>0.333333</td>\n",
       "      <td>3</td>\n",
       "    </tr>\n",
       "    <tr>\n",
       "      <th>jones.com</th>\n",
       "      <td>0.500000</td>\n",
       "      <td>2</td>\n",
       "    </tr>\n",
       "    <tr>\n",
       "      <th>1jcfcxs7</th>\n",
       "      <td>1.000000</td>\n",
       "      <td>1</td>\n",
       "    </tr>\n",
       "    <tr>\n",
       "      <th>6eph</th>\n",
       "      <td>1.000000</td>\n",
       "      <td>1</td>\n",
       "    </tr>\n",
       "    <tr>\n",
       "      <th>arnold.com</th>\n",
       "      <td>1.000000</td>\n",
       "      <td>1</td>\n",
       "    </tr>\n",
       "    <tr>\n",
       "      <th>atkinson.com</th>\n",
       "      <td>0.000000</td>\n",
       "      <td>1</td>\n",
       "    </tr>\n",
       "    <tr>\n",
       "      <th>bell.com</th>\n",
       "      <td>0.000000</td>\n",
       "      <td>1</td>\n",
       "    </tr>\n",
       "    <tr>\n",
       "      <th>brewer-jones.com</th>\n",
       "      <td>1.000000</td>\n",
       "      <td>1</td>\n",
       "    </tr>\n",
       "    <tr>\n",
       "      <th>brown.com</th>\n",
       "      <td>1.000000</td>\n",
       "      <td>1</td>\n",
       "    </tr>\n",
       "    <tr>\n",
       "      <th>chavez.com</th>\n",
       "      <td>0.000000</td>\n",
       "      <td>1</td>\n",
       "    </tr>\n",
       "    <tr>\n",
       "      <th>clark.biz</th>\n",
       "      <td>0.000000</td>\n",
       "      <td>1</td>\n",
       "    </tr>\n",
       "    <tr>\n",
       "      <th>clark.com</th>\n",
       "      <td>0.000000</td>\n",
       "      <td>1</td>\n",
       "    </tr>\n",
       "    <tr>\n",
       "      <th>conner.com</th>\n",
       "      <td>0.000000</td>\n",
       "      <td>1</td>\n",
       "    </tr>\n",
       "    <tr>\n",
       "      <th>conrad.net</th>\n",
       "      <td>0.000000</td>\n",
       "      <td>1</td>\n",
       "    </tr>\n",
       "    <tr>\n",
       "      <th>cox.org</th>\n",
       "      <td>0.000000</td>\n",
       "      <td>1</td>\n",
       "    </tr>\n",
       "    <tr>\n",
       "      <th>cruz.info</th>\n",
       "      <td>0.000000</td>\n",
       "      <td>1</td>\n",
       "    </tr>\n",
       "    <tr>\n",
       "      <th>davis-perkins.com</th>\n",
       "      <td>0.000000</td>\n",
       "      <td>1</td>\n",
       "    </tr>\n",
       "  </tbody>\n",
       "</table>\n",
       "</div>"
      ],
      "text/plain": [
       "                      Fraud      \n",
       "                       mean count\n",
       "edomain                          \n",
       "gmail.com          0.483871    31\n",
       "yahoo.com          0.206897    29\n",
       "hotmail.com        0.260870    23\n",
       "wright.com         0.333333     3\n",
       "jones.com          0.500000     2\n",
       "1jcfcxs7           1.000000     1\n",
       "6eph               1.000000     1\n",
       "arnold.com         1.000000     1\n",
       "atkinson.com       0.000000     1\n",
       "bell.com           0.000000     1\n",
       "brewer-jones.com   1.000000     1\n",
       "brown.com          1.000000     1\n",
       "chavez.com         0.000000     1\n",
       "clark.biz          0.000000     1\n",
       "clark.com          0.000000     1\n",
       "conner.com         0.000000     1\n",
       "conrad.net         0.000000     1\n",
       "cox.org            0.000000     1\n",
       "cruz.info          0.000000     1\n",
       "davis-perkins.com  0.000000     1"
      ]
     },
     "execution_count": 13,
     "metadata": {},
     "output_type": "execute_result"
    }
   ],
   "source": [
    "cust['edomain'] = cust['customerEmail'].apply(lambda x: x.split(\"@\")[1])\n",
    "cust[[\"edomain\",\"Fraud\"]].groupby(\"edomain\").agg({\"Fraud\": ['mean', 'count']}).nlargest(20,('Fraud','count'))"
   ]
  },
  {
   "cell_type": "markdown",
   "id": "5797b73f",
   "metadata": {},
   "source": [
    "**Phone number** will be hard to use. Porting of numbers makes it extremely difficult to pin down whether the number is fixed, contract mobile or pay as you go. International dialling codes are not uniformly included in the field.<br>\n",
    "**Device** identification does not match IMEI format so it is not clear how this field could be useful.<br>\n",
    "**IPaddress** could potentially provide information about the location of the customer when the tansaction was made (VPN notwithstanding). To extract the country from the IP address we used the services of showmyIP.com. There is indeed some variability between the countries. Hong Kong is always associated with fraud(!), but Japan is below average. Again there are a large number of low-incidence countries that will need to be aggregated."
   ]
  },
  {
   "cell_type": "code",
   "execution_count": 14,
   "id": "b8a0c9a9",
   "metadata": {},
   "outputs": [
    {
     "data": {
      "text/html": [
       "<div>\n",
       "<style scoped>\n",
       "    .dataframe tbody tr th:only-of-type {\n",
       "        vertical-align: middle;\n",
       "    }\n",
       "\n",
       "    .dataframe tbody tr th {\n",
       "        vertical-align: top;\n",
       "    }\n",
       "\n",
       "    .dataframe thead tr th {\n",
       "        text-align: left;\n",
       "    }\n",
       "\n",
       "    .dataframe thead tr:last-of-type th {\n",
       "        text-align: right;\n",
       "    }\n",
       "</style>\n",
       "<table border=\"1\" class=\"dataframe\">\n",
       "  <thead>\n",
       "    <tr>\n",
       "      <th></th>\n",
       "      <th colspan=\"2\" halign=\"left\">Fraud</th>\n",
       "    </tr>\n",
       "    <tr>\n",
       "      <th></th>\n",
       "      <th>mean</th>\n",
       "      <th>count</th>\n",
       "    </tr>\n",
       "    <tr>\n",
       "      <th>country</th>\n",
       "      <th></th>\n",
       "      <th></th>\n",
       "    </tr>\n",
       "  </thead>\n",
       "  <tbody>\n",
       "    <tr>\n",
       "      <th>Switzerland</th>\n",
       "      <td>0.327586</td>\n",
       "      <td>58</td>\n",
       "    </tr>\n",
       "    <tr>\n",
       "      <th>United States</th>\n",
       "      <td>0.303030</td>\n",
       "      <td>33</td>\n",
       "    </tr>\n",
       "    <tr>\n",
       "      <th>Unknown</th>\n",
       "      <td>0.230769</td>\n",
       "      <td>13</td>\n",
       "    </tr>\n",
       "    <tr>\n",
       "      <th>reserved range</th>\n",
       "      <td>0.333333</td>\n",
       "      <td>12</td>\n",
       "    </tr>\n",
       "    <tr>\n",
       "      <th>China</th>\n",
       "      <td>0.300000</td>\n",
       "      <td>10</td>\n",
       "    </tr>\n",
       "    <tr>\n",
       "      <th>France</th>\n",
       "      <td>0.428571</td>\n",
       "      <td>7</td>\n",
       "    </tr>\n",
       "    <tr>\n",
       "      <th>Hong Kong</th>\n",
       "      <td>1.000000</td>\n",
       "      <td>4</td>\n",
       "    </tr>\n",
       "    <tr>\n",
       "      <th>Japan</th>\n",
       "      <td>0.250000</td>\n",
       "      <td>4</td>\n",
       "    </tr>\n",
       "    <tr>\n",
       "      <th>Italy</th>\n",
       "      <td>0.333333</td>\n",
       "      <td>3</td>\n",
       "    </tr>\n",
       "    <tr>\n",
       "      <th>United Kingdom</th>\n",
       "      <td>0.333333</td>\n",
       "      <td>3</td>\n",
       "    </tr>\n",
       "    <tr>\n",
       "      <th>Argentina</th>\n",
       "      <td>1.000000</td>\n",
       "      <td>2</td>\n",
       "    </tr>\n",
       "    <tr>\n",
       "      <th>Germany</th>\n",
       "      <td>0.500000</td>\n",
       "      <td>2</td>\n",
       "    </tr>\n",
       "    <tr>\n",
       "      <th>Romania</th>\n",
       "      <td>0.500000</td>\n",
       "      <td>2</td>\n",
       "    </tr>\n",
       "    <tr>\n",
       "      <th>South Korea</th>\n",
       "      <td>1.000000</td>\n",
       "      <td>2</td>\n",
       "    </tr>\n",
       "    <tr>\n",
       "      <th>Taiwan</th>\n",
       "      <td>0.000000</td>\n",
       "      <td>2</td>\n",
       "    </tr>\n",
       "    <tr>\n",
       "      <th>Armenia</th>\n",
       "      <td>0.000000</td>\n",
       "      <td>1</td>\n",
       "    </tr>\n",
       "    <tr>\n",
       "      <th>Australia</th>\n",
       "      <td>1.000000</td>\n",
       "      <td>1</td>\n",
       "    </tr>\n",
       "    <tr>\n",
       "      <th>Canada</th>\n",
       "      <td>1.000000</td>\n",
       "      <td>1</td>\n",
       "    </tr>\n",
       "    <tr>\n",
       "      <th>India</th>\n",
       "      <td>1.000000</td>\n",
       "      <td>1</td>\n",
       "    </tr>\n",
       "    <tr>\n",
       "      <th>Iran</th>\n",
       "      <td>1.000000</td>\n",
       "      <td>1</td>\n",
       "    </tr>\n",
       "  </tbody>\n",
       "</table>\n",
       "</div>"
      ],
      "text/plain": [
       "                   Fraud      \n",
       "                    mean count\n",
       "country                       \n",
       "Switzerland     0.327586    58\n",
       "United States   0.303030    33\n",
       "Unknown         0.230769    13\n",
       "reserved range  0.333333    12\n",
       "China           0.300000    10\n",
       "France          0.428571     7\n",
       "Hong Kong       1.000000     4\n",
       "Japan           0.250000     4\n",
       "Italy           0.333333     3\n",
       "United Kingdom  0.333333     3\n",
       "Argentina       1.000000     2\n",
       "Germany         0.500000     2\n",
       "Romania         0.500000     2\n",
       "South Korea     1.000000     2\n",
       "Taiwan          0.000000     2\n",
       "Armenia         0.000000     1\n",
       "Australia       1.000000     1\n",
       "Canada          1.000000     1\n",
       "India           1.000000     1\n",
       "Iran            1.000000     1"
      ]
     },
     "execution_count": 14,
     "metadata": {},
     "output_type": "execute_result"
    }
   ],
   "source": [
    "cust['customerIPAddress'][:100].to_csv('ip1.csv',index=False)\n",
    "cust['customerIPAddress'][100:].to_csv('ip2.csv',index=False)\n",
    "# process on showmyIP.com with output file \"ipcountry.csv\"}\n",
    "ipcountry= pd.read_csv(\"ipcountry.csv\")\n",
    "cust['country'] = ipcountry['Country']\n",
    "cust[[\"country\",\"Fraud\"]].groupby(\"country\").agg({\"Fraud\": ['mean', 'count']}).nlargest(20,('Fraud','count'))"
   ]
  },
  {
   "cell_type": "markdown",
   "id": "2664b12c",
   "metadata": {},
   "source": [
    "**Billing address** is interesting. Without exception all customers have billing addresses correctly formatted for US state and zip codes. It is not clear how this relates to the wide range of countries represented in the IP addresses? Is it possible that zip codes could prove a useful predictor of fraud? In fact there are 166 unique zip codes in 168 records. The present dataset will not help us use zip code information."
   ]
  },
  {
   "cell_type": "code",
   "execution_count": 15,
   "id": "e63ec1c3",
   "metadata": {},
   "outputs": [
    {
     "data": {
      "text/plain": [
       "166"
      ]
     },
     "execution_count": 15,
     "metadata": {},
     "output_type": "execute_result"
    }
   ],
   "source": [
    "regex2 = '([A-Z]{2} [0-9]{5}(?:-[0-9]{4})?)$'\n",
    "cust['zip'] = cust['customerBillingAddress'].apply(lambda x: re.findall(regex2, x)[0])\n",
    "cust['zip'].nunique()"
   ]
  },
  {
   "cell_type": "markdown",
   "id": "11f4f2b6",
   "metadata": {},
   "source": [
    "### 1.2 Transaction file\n",
    "#### Overview"
   ]
  },
  {
   "cell_type": "code",
   "execution_count": 16,
   "id": "b6ad3568",
   "metadata": {},
   "outputs": [
    {
     "data": {
      "text/html": [
       "<div>\n",
       "<style scoped>\n",
       "    .dataframe tbody tr th:only-of-type {\n",
       "        vertical-align: middle;\n",
       "    }\n",
       "\n",
       "    .dataframe tbody tr th {\n",
       "        vertical-align: top;\n",
       "    }\n",
       "\n",
       "    .dataframe thead th {\n",
       "        text-align: right;\n",
       "    }\n",
       "</style>\n",
       "<table border=\"1\" class=\"dataframe\">\n",
       "  <thead>\n",
       "    <tr style=\"text-align: right;\">\n",
       "      <th></th>\n",
       "      <th>customerEmail</th>\n",
       "      <th>transactionId</th>\n",
       "      <th>orderId</th>\n",
       "      <th>paymentMethodId</th>\n",
       "      <th>paymentMethodRegistrationFailure</th>\n",
       "      <th>paymentMethodType</th>\n",
       "      <th>paymentMethodProvider</th>\n",
       "      <th>transactionAmount</th>\n",
       "      <th>transactionFailed</th>\n",
       "      <th>orderState</th>\n",
       "    </tr>\n",
       "  </thead>\n",
       "  <tbody>\n",
       "    <tr>\n",
       "      <th>0</th>\n",
       "      <td>josephhoward@yahoo.com</td>\n",
       "      <td>a9lcj51r</td>\n",
       "      <td>vjbdvd</td>\n",
       "      <td>wt07xm68b</td>\n",
       "      <td>1</td>\n",
       "      <td>card</td>\n",
       "      <td>JCB 16 digit</td>\n",
       "      <td>18</td>\n",
       "      <td>0</td>\n",
       "      <td>pending</td>\n",
       "    </tr>\n",
       "    <tr>\n",
       "      <th>1</th>\n",
       "      <td>josephhoward@yahoo.com</td>\n",
       "      <td>y4wcv03i</td>\n",
       "      <td>yp6x27</td>\n",
       "      <td>wt07xm68b</td>\n",
       "      <td>1</td>\n",
       "      <td>card</td>\n",
       "      <td>JCB 16 digit</td>\n",
       "      <td>26</td>\n",
       "      <td>0</td>\n",
       "      <td>fulfilled</td>\n",
       "    </tr>\n",
       "    <tr>\n",
       "      <th>2</th>\n",
       "      <td>evansjeffery@yahoo.com</td>\n",
       "      <td>5mi94sfw</td>\n",
       "      <td>nlghpa</td>\n",
       "      <td>41ug157xz</td>\n",
       "      <td>0</td>\n",
       "      <td>bitcoin</td>\n",
       "      <td>American Express</td>\n",
       "      <td>45</td>\n",
       "      <td>0</td>\n",
       "      <td>fulfilled</td>\n",
       "    </tr>\n",
       "    <tr>\n",
       "      <th>3</th>\n",
       "      <td>evansjeffery@yahoo.com</td>\n",
       "      <td>br8ba1nu</td>\n",
       "      <td>uw0eeb</td>\n",
       "      <td>41ug157xz</td>\n",
       "      <td>0</td>\n",
       "      <td>bitcoin</td>\n",
       "      <td>American Express</td>\n",
       "      <td>23</td>\n",
       "      <td>0</td>\n",
       "      <td>fulfilled</td>\n",
       "    </tr>\n",
       "    <tr>\n",
       "      <th>4</th>\n",
       "      <td>evansjeffery@yahoo.com</td>\n",
       "      <td>a33145ss</td>\n",
       "      <td>bn44oh</td>\n",
       "      <td>y3xp697jx</td>\n",
       "      <td>1</td>\n",
       "      <td>bitcoin</td>\n",
       "      <td>VISA 16 digit</td>\n",
       "      <td>43</td>\n",
       "      <td>1</td>\n",
       "      <td>fulfilled</td>\n",
       "    </tr>\n",
       "  </tbody>\n",
       "</table>\n",
       "</div>"
      ],
      "text/plain": [
       "            customerEmail transactionId orderId paymentMethodId  \\\n",
       "0  josephhoward@yahoo.com      a9lcj51r  vjbdvd       wt07xm68b   \n",
       "1  josephhoward@yahoo.com      y4wcv03i  yp6x27       wt07xm68b   \n",
       "2  evansjeffery@yahoo.com      5mi94sfw  nlghpa       41ug157xz   \n",
       "3  evansjeffery@yahoo.com      br8ba1nu  uw0eeb       41ug157xz   \n",
       "4  evansjeffery@yahoo.com      a33145ss  bn44oh       y3xp697jx   \n",
       "\n",
       "   paymentMethodRegistrationFailure paymentMethodType paymentMethodProvider  \\\n",
       "0                                 1              card          JCB 16 digit   \n",
       "1                                 1              card          JCB 16 digit   \n",
       "2                                 0           bitcoin      American Express   \n",
       "3                                 0           bitcoin      American Express   \n",
       "4                                 1           bitcoin         VISA 16 digit   \n",
       "\n",
       "   transactionAmount  transactionFailed orderState  \n",
       "0                 18                  0    pending  \n",
       "1                 26                  0  fulfilled  \n",
       "2                 45                  0  fulfilled  \n",
       "3                 23                  0  fulfilled  \n",
       "4                 43                  1  fulfilled  "
      ]
     },
     "execution_count": 16,
     "metadata": {},
     "output_type": "execute_result"
    }
   ],
   "source": [
    "trans.head()"
   ]
  },
  {
   "cell_type": "code",
   "execution_count": 17,
   "id": "02ef3599",
   "metadata": {},
   "outputs": [
    {
     "name": "stdout",
     "output_type": "stream",
     "text": [
      "<class 'pandas.core.frame.DataFrame'>\n",
      "Int64Index: 623 entries, 0 to 622\n",
      "Data columns (total 10 columns):\n",
      " #   Column                            Non-Null Count  Dtype \n",
      "---  ------                            --------------  ----- \n",
      " 0   customerEmail                     623 non-null    object\n",
      " 1   transactionId                     623 non-null    object\n",
      " 2   orderId                           623 non-null    object\n",
      " 3   paymentMethodId                   623 non-null    object\n",
      " 4   paymentMethodRegistrationFailure  623 non-null    int64 \n",
      " 5   paymentMethodType                 623 non-null    object\n",
      " 6   paymentMethodProvider             623 non-null    object\n",
      " 7   transactionAmount                 623 non-null    int64 \n",
      " 8   transactionFailed                 623 non-null    int64 \n",
      " 9   orderState                        623 non-null    object\n",
      "dtypes: int64(3), object(7)\n",
      "memory usage: 53.5+ KB\n"
     ]
    }
   ],
   "source": [
    "trans.info()"
   ]
  },
  {
   "cell_type": "code",
   "execution_count": 18,
   "id": "ece0ad0a",
   "metadata": {},
   "outputs": [
    {
     "data": {
      "text/plain": [
       "customerEmail                       136\n",
       "transactionId                       623\n",
       "orderId                             478\n",
       "paymentMethodId                     237\n",
       "paymentMethodRegistrationFailure      2\n",
       "paymentMethodType                     4\n",
       "paymentMethodProvider                10\n",
       "transactionAmount                    67\n",
       "transactionFailed                     2\n",
       "orderState                            3\n",
       "dtype: int64"
      ]
     },
     "execution_count": 18,
     "metadata": {},
     "output_type": "execute_result"
    }
   ],
   "source": [
    "trans.nunique()"
   ]
  },
  {
   "cell_type": "markdown",
   "id": "1d3b1b44",
   "metadata": {},
   "source": [
    "In order to examine the data further we need to associate each transaction with a label (fraud or not fraud). In order to do that we need to provide a list of unique email addresses and associated fraud labels. Then we join to the trans dataframe."
   ]
  },
  {
   "cell_type": "code",
   "execution_count": 19,
   "id": "3c45d957",
   "metadata": {},
   "outputs": [],
   "source": [
    "emailIndex = cust[['customerEmail','Fraud']].drop_duplicates(subset='customerEmail', keep='first', inplace=False)\n",
    "trans2 = trans.merge(emailIndex, how='left', on='customerEmail')"
   ]
  },
  {
   "cell_type": "markdown",
   "id": "7e2d71c1",
   "metadata": {},
   "source": [
    "#### Numerical features\n",
    "There is only one numerical feature: transactionAmount. Does this correlate with fraud at all? It turns out there is a fraudulent outlier value 353 (row 189). This outlier could prove problematic later in linear models. We shall remove this to see if the remaining rows show a pattern. And we do indeed see that higher transaction amounts are associated with fraud."
   ]
  },
  {
   "cell_type": "code",
   "execution_count": 20,
   "id": "4ba2af33",
   "metadata": {},
   "outputs": [
    {
     "data": {
      "text/plain": [
       "<AxesSubplot:xlabel='Fraud', ylabel='transactionAmount'>"
      ]
     },
     "execution_count": 20,
     "metadata": {},
     "output_type": "execute_result"
    },
    {
     "data": {
      "image/png": "[encoded data removed]",
      "text/plain": [
       "<Figure size 432x288 with 1 Axes>"
      ]
     },
     "metadata": {},
     "output_type": "display_data"
    }
   ],
   "source": [
    "sns.boxplot(x=\"Fraud\", y=\"transactionAmount\", data=trans2)"
   ]
  },
  {
   "cell_type": "code",
   "execution_count": 21,
   "id": "add4b4ba",
   "metadata": {},
   "outputs": [
    {
     "data": {
      "text/plain": [
       "<AxesSubplot:xlabel='Fraud', ylabel='transactionAmount'>"
      ]
     },
     "execution_count": 21,
     "metadata": {},
     "output_type": "execute_result"
    },
    {
     "data": {
      "image/png": "[encoded data removed]",
      "text/plain": [
       "<Figure size 432x288 with 1 Axes>"
      ]
     },
     "metadata": {},
     "output_type": "display_data"
    }
   ],
   "source": [
    "sns.boxplot(x=\"Fraud\", y=\"transactionAmount\", data=trans2.drop(189,axis=0))"
   ]
  },
  {
   "cell_type": "markdown",
   "id": "e0239922",
   "metadata": {},
   "source": [
    "#### Descriptive features (transactionId, orderId, paymentMethodId, paymentMethodRegistrationFailure, paymentMethodType, paymentMethodProvider, transactionFailed, orderState) <br>\n",
    "The first three fields are have largely unique values and seem to be part of the internal data system. These will not be pursued further. There are two \"failure\" features (paymentMethodRegistration and transaction). Do these correlate with fraud? There seems to be a small correlation - payment method registratino failure positively and transaction failure negatively."
   ]
  },
  {
   "cell_type": "code",
   "execution_count": 22,
   "id": "e15b68a5",
   "metadata": {},
   "outputs": [
    {
     "data": {
      "text/html": [
       "<div>\n",
       "<style scoped>\n",
       "    .dataframe tbody tr th:only-of-type {\n",
       "        vertical-align: middle;\n",
       "    }\n",
       "\n",
       "    .dataframe tbody tr th {\n",
       "        vertical-align: top;\n",
       "    }\n",
       "\n",
       "    .dataframe thead tr th {\n",
       "        text-align: left;\n",
       "    }\n",
       "\n",
       "    .dataframe thead tr:last-of-type th {\n",
       "        text-align: right;\n",
       "    }\n",
       "</style>\n",
       "<table border=\"1\" class=\"dataframe\">\n",
       "  <thead>\n",
       "    <tr>\n",
       "      <th></th>\n",
       "      <th colspan=\"2\" halign=\"left\">Fraud</th>\n",
       "    </tr>\n",
       "    <tr>\n",
       "      <th></th>\n",
       "      <th>mean</th>\n",
       "      <th>count</th>\n",
       "    </tr>\n",
       "    <tr>\n",
       "      <th>paymentMethodRegistrationFailure</th>\n",
       "      <th></th>\n",
       "      <th></th>\n",
       "    </tr>\n",
       "  </thead>\n",
       "  <tbody>\n",
       "    <tr>\n",
       "      <th>0</th>\n",
       "      <td>0.406654</td>\n",
       "      <td>541</td>\n",
       "    </tr>\n",
       "    <tr>\n",
       "      <th>1</th>\n",
       "      <td>0.451220</td>\n",
       "      <td>82</td>\n",
       "    </tr>\n",
       "  </tbody>\n",
       "</table>\n",
       "</div>"
      ],
      "text/plain": [
       "                                     Fraud      \n",
       "                                      mean count\n",
       "paymentMethodRegistrationFailure                \n",
       "0                                 0.406654   541\n",
       "1                                 0.451220    82"
      ]
     },
     "execution_count": 22,
     "metadata": {},
     "output_type": "execute_result"
    }
   ],
   "source": [
    "trans2[[\"paymentMethodRegistrationFailure\",\"Fraud\"]].groupby(\"paymentMethodRegistrationFailure\").agg({\"Fraud\": ['mean', 'count']})"
   ]
  },
  {
   "cell_type": "code",
   "execution_count": 23,
   "id": "cf1ab145",
   "metadata": {},
   "outputs": [
    {
     "data": {
      "text/html": [
       "<div>\n",
       "<style scoped>\n",
       "    .dataframe tbody tr th:only-of-type {\n",
       "        vertical-align: middle;\n",
       "    }\n",
       "\n",
       "    .dataframe tbody tr th {\n",
       "        vertical-align: top;\n",
       "    }\n",
       "\n",
       "    .dataframe thead tr th {\n",
       "        text-align: left;\n",
       "    }\n",
       "\n",
       "    .dataframe thead tr:last-of-type th {\n",
       "        text-align: right;\n",
       "    }\n",
       "</style>\n",
       "<table border=\"1\" class=\"dataframe\">\n",
       "  <thead>\n",
       "    <tr>\n",
       "      <th></th>\n",
       "      <th colspan=\"2\" halign=\"left\">Fraud</th>\n",
       "    </tr>\n",
       "    <tr>\n",
       "      <th></th>\n",
       "      <th>mean</th>\n",
       "      <th>count</th>\n",
       "    </tr>\n",
       "    <tr>\n",
       "      <th>transactionFailed</th>\n",
       "      <th></th>\n",
       "      <th></th>\n",
       "    </tr>\n",
       "  </thead>\n",
       "  <tbody>\n",
       "    <tr>\n",
       "      <th>0</th>\n",
       "      <td>0.432967</td>\n",
       "      <td>455</td>\n",
       "    </tr>\n",
       "    <tr>\n",
       "      <th>1</th>\n",
       "      <td>0.357143</td>\n",
       "      <td>168</td>\n",
       "    </tr>\n",
       "  </tbody>\n",
       "</table>\n",
       "</div>"
      ],
      "text/plain": [
       "                      Fraud      \n",
       "                       mean count\n",
       "transactionFailed                \n",
       "0                  0.432967   455\n",
       "1                  0.357143   168"
      ]
     },
     "execution_count": 23,
     "metadata": {},
     "output_type": "execute_result"
    }
   ],
   "source": [
    "trans2[[\"transactionFailed\",\"Fraud\"]].groupby(\"transactionFailed\").agg({\"Fraud\": ['mean', 'count']})"
   ]
  },
  {
   "cell_type": "markdown",
   "id": "4e67637f",
   "metadata": {},
   "source": [
    "What about payment method type? Well bitcoin (not surprisingly) turns out to be positively associated with fraud, while Paypal is very low for fraud."
   ]
  },
  {
   "cell_type": "code",
   "execution_count": 24,
   "id": "cddbab14",
   "metadata": {},
   "outputs": [
    {
     "data": {
      "text/html": [
       "<div>\n",
       "<style scoped>\n",
       "    .dataframe tbody tr th:only-of-type {\n",
       "        vertical-align: middle;\n",
       "    }\n",
       "\n",
       "    .dataframe tbody tr th {\n",
       "        vertical-align: top;\n",
       "    }\n",
       "\n",
       "    .dataframe thead tr th {\n",
       "        text-align: left;\n",
       "    }\n",
       "\n",
       "    .dataframe thead tr:last-of-type th {\n",
       "        text-align: right;\n",
       "    }\n",
       "</style>\n",
       "<table border=\"1\" class=\"dataframe\">\n",
       "  <thead>\n",
       "    <tr>\n",
       "      <th></th>\n",
       "      <th colspan=\"2\" halign=\"left\">Fraud</th>\n",
       "    </tr>\n",
       "    <tr>\n",
       "      <th></th>\n",
       "      <th>mean</th>\n",
       "      <th>count</th>\n",
       "    </tr>\n",
       "    <tr>\n",
       "      <th>paymentMethodType</th>\n",
       "      <th></th>\n",
       "      <th></th>\n",
       "    </tr>\n",
       "  </thead>\n",
       "  <tbody>\n",
       "    <tr>\n",
       "      <th>apple pay</th>\n",
       "      <td>0.448980</td>\n",
       "      <td>49</td>\n",
       "    </tr>\n",
       "    <tr>\n",
       "      <th>bitcoin</th>\n",
       "      <td>0.510638</td>\n",
       "      <td>47</td>\n",
       "    </tr>\n",
       "    <tr>\n",
       "      <th>card</th>\n",
       "      <td>0.423800</td>\n",
       "      <td>479</td>\n",
       "    </tr>\n",
       "    <tr>\n",
       "      <th>paypal</th>\n",
       "      <td>0.166667</td>\n",
       "      <td>48</td>\n",
       "    </tr>\n",
       "  </tbody>\n",
       "</table>\n",
       "</div>"
      ],
      "text/plain": [
       "                      Fraud      \n",
       "                       mean count\n",
       "paymentMethodType                \n",
       "apple pay          0.448980    49\n",
       "bitcoin            0.510638    47\n",
       "card               0.423800   479\n",
       "paypal             0.166667    48"
      ]
     },
     "execution_count": 24,
     "metadata": {},
     "output_type": "execute_result"
    }
   ],
   "source": [
    "trans2[[\"paymentMethodType\",\"Fraud\"]].groupby(\"paymentMethodType\").agg({\"Fraud\": ['mean', 'count']})"
   ]
  },
  {
   "cell_type": "markdown",
   "id": "8f532a77",
   "metadata": {},
   "source": [
    "And payment method provider? Visa and Voyager tend to be higher for fraud."
   ]
  },
  {
   "cell_type": "code",
   "execution_count": 25,
   "id": "6f054003",
   "metadata": {},
   "outputs": [
    {
     "data": {
      "text/html": [
       "<div>\n",
       "<style scoped>\n",
       "    .dataframe tbody tr th:only-of-type {\n",
       "        vertical-align: middle;\n",
       "    }\n",
       "\n",
       "    .dataframe tbody tr th {\n",
       "        vertical-align: top;\n",
       "    }\n",
       "\n",
       "    .dataframe thead tr th {\n",
       "        text-align: left;\n",
       "    }\n",
       "\n",
       "    .dataframe thead tr:last-of-type th {\n",
       "        text-align: right;\n",
       "    }\n",
       "</style>\n",
       "<table border=\"1\" class=\"dataframe\">\n",
       "  <thead>\n",
       "    <tr>\n",
       "      <th></th>\n",
       "      <th colspan=\"2\" halign=\"left\">Fraud</th>\n",
       "    </tr>\n",
       "    <tr>\n",
       "      <th></th>\n",
       "      <th>mean</th>\n",
       "      <th>count</th>\n",
       "    </tr>\n",
       "    <tr>\n",
       "      <th>paymentMethodProvider</th>\n",
       "      <th></th>\n",
       "      <th></th>\n",
       "    </tr>\n",
       "  </thead>\n",
       "  <tbody>\n",
       "    <tr>\n",
       "      <th>American Express</th>\n",
       "      <td>0.377778</td>\n",
       "      <td>45</td>\n",
       "    </tr>\n",
       "    <tr>\n",
       "      <th>Diners Club / Carte Blanche</th>\n",
       "      <td>0.344828</td>\n",
       "      <td>58</td>\n",
       "    </tr>\n",
       "    <tr>\n",
       "      <th>Discover</th>\n",
       "      <td>0.414634</td>\n",
       "      <td>41</td>\n",
       "    </tr>\n",
       "    <tr>\n",
       "      <th>JCB 15 digit</th>\n",
       "      <td>0.311111</td>\n",
       "      <td>45</td>\n",
       "    </tr>\n",
       "    <tr>\n",
       "      <th>JCB 16 digit</th>\n",
       "      <td>0.432203</td>\n",
       "      <td>118</td>\n",
       "    </tr>\n",
       "    <tr>\n",
       "      <th>Maestro</th>\n",
       "      <td>0.231884</td>\n",
       "      <td>69</td>\n",
       "    </tr>\n",
       "    <tr>\n",
       "      <th>Mastercard</th>\n",
       "      <td>0.375000</td>\n",
       "      <td>32</td>\n",
       "    </tr>\n",
       "    <tr>\n",
       "      <th>VISA 13 digit</th>\n",
       "      <td>0.568966</td>\n",
       "      <td>58</td>\n",
       "    </tr>\n",
       "    <tr>\n",
       "      <th>VISA 16 digit</th>\n",
       "      <td>0.468750</td>\n",
       "      <td>96</td>\n",
       "    </tr>\n",
       "    <tr>\n",
       "      <th>Voyager</th>\n",
       "      <td>0.524590</td>\n",
       "      <td>61</td>\n",
       "    </tr>\n",
       "  </tbody>\n",
       "</table>\n",
       "</div>"
      ],
      "text/plain": [
       "                                Fraud      \n",
       "                                 mean count\n",
       "paymentMethodProvider                      \n",
       "American Express             0.377778    45\n",
       "Diners Club / Carte Blanche  0.344828    58\n",
       "Discover                     0.414634    41\n",
       "JCB 15 digit                 0.311111    45\n",
       "JCB 16 digit                 0.432203   118\n",
       "Maestro                      0.231884    69\n",
       "Mastercard                   0.375000    32\n",
       "VISA 13 digit                0.568966    58\n",
       "VISA 16 digit                0.468750    96\n",
       "Voyager                      0.524590    61"
      ]
     },
     "execution_count": 25,
     "metadata": {},
     "output_type": "execute_result"
    }
   ],
   "source": [
    "trans2[[\"paymentMethodProvider\",\"Fraud\"]].groupby(\"paymentMethodProvider\").agg({\"Fraud\": ['mean', 'count']})"
   ]
  },
  {
   "cell_type": "markdown",
   "id": "34d24c63",
   "metadata": {},
   "source": [
    "Finally orderState. It seems that pending orders are less likely to be fraudulent than failed or fulfilled orders."
   ]
  },
  {
   "cell_type": "code",
   "execution_count": 26,
   "id": "478013d6",
   "metadata": {},
   "outputs": [
    {
     "data": {
      "text/html": [
       "<div>\n",
       "<style scoped>\n",
       "    .dataframe tbody tr th:only-of-type {\n",
       "        vertical-align: middle;\n",
       "    }\n",
       "\n",
       "    .dataframe tbody tr th {\n",
       "        vertical-align: top;\n",
       "    }\n",
       "\n",
       "    .dataframe thead tr th {\n",
       "        text-align: left;\n",
       "    }\n",
       "\n",
       "    .dataframe thead tr:last-of-type th {\n",
       "        text-align: right;\n",
       "    }\n",
       "</style>\n",
       "<table border=\"1\" class=\"dataframe\">\n",
       "  <thead>\n",
       "    <tr>\n",
       "      <th></th>\n",
       "      <th colspan=\"2\" halign=\"left\">Fraud</th>\n",
       "    </tr>\n",
       "    <tr>\n",
       "      <th></th>\n",
       "      <th>mean</th>\n",
       "      <th>count</th>\n",
       "    </tr>\n",
       "    <tr>\n",
       "      <th>orderState</th>\n",
       "      <th></th>\n",
       "      <th></th>\n",
       "    </tr>\n",
       "  </thead>\n",
       "  <tbody>\n",
       "    <tr>\n",
       "      <th>failed</th>\n",
       "      <td>0.428571</td>\n",
       "      <td>63</td>\n",
       "    </tr>\n",
       "    <tr>\n",
       "      <th>fulfilled</th>\n",
       "      <td>0.422481</td>\n",
       "      <td>516</td>\n",
       "    </tr>\n",
       "    <tr>\n",
       "      <th>pending</th>\n",
       "      <td>0.272727</td>\n",
       "      <td>44</td>\n",
       "    </tr>\n",
       "  </tbody>\n",
       "</table>\n",
       "</div>"
      ],
      "text/plain": [
       "               Fraud      \n",
       "                mean count\n",
       "orderState                \n",
       "failed      0.428571    63\n",
       "fulfilled   0.422481   516\n",
       "pending     0.272727    44"
      ]
     },
     "execution_count": 26,
     "metadata": {},
     "output_type": "execute_result"
    }
   ],
   "source": [
    "trans2[[\"orderState\",\"Fraud\"]].groupby(\"orderState\").agg({\"Fraud\": ['mean', 'count']})"
   ]
  },
  {
   "cell_type": "markdown",
   "id": "5078060d",
   "metadata": {},
   "source": [
    "## 2. Feature engineering<a id='s2'></a>\n",
    "Following the exploratory data analysis, the following tasks will be completed to engineer the required data set.<br>\n",
    "Cust:<br> \n",
    "1. Incorporate valid email address column\n",
    "2. Incorpoate a column flagging customer with duplication of email address\n",
    "3. Incorporate edomain, consolidating all domain names with frequency below 4 as \"Other\"\n",
    "5. Incorporate country field from IPAddress. Consolidate countries with frequency less than 7 as \"Other\"\n",
    "7. Keep the three numeric columns\n",
    "6. Drop Billing, customer phone, device, IPAddress\n",
    "8. Eliminate rows with duplicate emails from cust. Modelling will be performed on transaction rows, not customer rows.\n",
    "<br><br>\n",
    "Trans:<br>\n",
    "1. Drop the three Id columns\n",
    "2. Drop the outlier row 189 (transactionAmount = 353)\n",
    "3. Keep paymentMethodRegistrationFailure, paymentMethodType, paymentMethodProvider, transactionFailed, orderState, transactionAmount<br><br>\n",
    "Join the dataframes on emailaddress and then drop emailaddress. Convert categorical variables to one-hot encoding<br><br><br>\n",
    "This will leave 13 variables, which expands to 36 with one-hot encoding.\n"
   ]
  },
  {
   "cell_type": "markdown",
   "id": "0923c8a4",
   "metadata": {},
   "source": [
    "### cust"
   ]
  },
  {
   "cell_type": "code",
   "execution_count": 4,
   "id": "8f2c7202",
   "metadata": {},
   "outputs": [],
   "source": [
    "cust = pd.read_csv(\"Customer_DF.csv\",index_col=0)\n",
    "cust['valid_email'] = cust['customerEmail'].apply(lambda x: int(bool(re.fullmatch(regex,x))))\n",
    "cust['dup_email'] = cust.duplicated(subset=['customerEmail'],keep=False)\n",
    "cust['edomain'] = cust['customerEmail'].apply(lambda x: x.split(\"@\")[1])\n",
    "edomainCounts = cust['edomain'].value_counts().head(3).index\n",
    "cust['edomain'] = cust['edomain'].apply(lambda x: x if x in edomainCounts else \"Other\")\n",
    "ipcountry= pd.read_csv(\"ipcountry.csv\")\n",
    "cust['country'] = ipcountry['Country']\n",
    "countryCounts = cust['country'].value_counts().head(6).index\n",
    "cust['country'] = cust['country'].apply(lambda x: x if x in countryCounts else \"Other\")\n",
    "cust = cust.drop(['customerPhone','customerDevice', 'customerBillingAddress', 'customerIPAddress'], axis = 1)\n",
    "cust = cust.drop_duplicates(subset='customerEmail', keep='first', inplace=False)"
   ]
  },
  {
   "cell_type": "markdown",
   "id": "fbbb2cc3",
   "metadata": {},
   "source": [
    "### trans"
   ]
  },
  {
   "cell_type": "code",
   "execution_count": 5,
   "id": "952de13d",
   "metadata": {},
   "outputs": [],
   "source": [
    "trans = pd.read_csv(\"cust_transaction_details.csv\",index_col=0)\n",
    "trans = trans.drop(['transactionId','orderId','paymentMethodId'], axis=1)\n",
    "trans = trans.drop(189,axis=0)"
   ]
  },
  {
   "cell_type": "markdown",
   "id": "331b723e",
   "metadata": {},
   "source": [
    "### merge"
   ]
  },
  {
   "cell_type": "code",
   "execution_count": 6,
   "id": "93baebbb",
   "metadata": {},
   "outputs": [],
   "source": [
    "fraudData = trans.merge(cust, how='left', on='customerEmail')\n",
    "y = fraudData['Fraud']\n",
    "X = fraudData.drop(['customerEmail', 'Fraud'], axis = 1)\n",
    "payment = pd.get_dummies(X['paymentMethodType'],drop_first=True)\n",
    "provider = pd.get_dummies(X['paymentMethodProvider'],drop_first=True)\n",
    "state = pd.get_dummies(X['orderState'],drop_first=True)\n",
    "domain = pd.get_dummies(X['edomain'],drop_first=True)\n",
    "country = pd.get_dummies(X['country'],drop_first=True)\n",
    "X = X.drop(['paymentMethodType','paymentMethodProvider','orderState','edomain','country'],axis=1)\n",
    "X = pd.concat([X,payment,provider,state,domain,country],axis=1)"
   ]
  },
  {
   "cell_type": "markdown",
   "id": "53e9c71e",
   "metadata": {},
   "source": [
    "#### Final balance of data: 41% fraud"
   ]
  },
  {
   "cell_type": "code",
   "execution_count": 7,
   "id": "3e39174e",
   "metadata": {},
   "outputs": [
    {
     "data": {
      "text/plain": [
       "0.4115755627009646"
      ]
     },
     "execution_count": 7,
     "metadata": {},
     "output_type": "execute_result"
    }
   ],
   "source": [
    "np.mean(y)"
   ]
  },
  {
   "cell_type": "markdown",
   "id": "f49c8f05",
   "metadata": {},
   "source": [
    "## 3. Model building<a id='s3'></a>\n",
    "Split data into train and test sets for all models. Normalize data based on X_train and apply to X_train and X_test."
   ]
  },
  {
   "cell_type": "code",
   "execution_count": 8,
   "id": "a0eb6fad",
   "metadata": {},
   "outputs": [],
   "source": [
    "from sklearn.model_selection import train_test_split\n",
    "from sklearn.metrics import classification_report\n",
    "from sklearn.metrics import confusion_matrix\n",
    "from sklearn.model_selection import GridSearchCV\n",
    "X_train, X_test, y_train, y_test = train_test_split(X, y, test_size=0.30, random_state=101,stratify=y)\n",
    "from sklearn.preprocessing import StandardScaler\n",
    "scaler = StandardScaler()\n",
    "scaler.fit(X_train)\n",
    "X_train_scaled = scaler.transform(X_train)\n",
    "X_test_scaled = scaler.transform(X_test)"
   ]
  },
  {
   "cell_type": "markdown",
   "id": "16cc9781",
   "metadata": {},
   "source": [
    "### 3.1 Logistic regression"
   ]
  },
  {
   "cell_type": "code",
   "execution_count": 187,
   "id": "ad9a37b7",
   "metadata": {},
   "outputs": [
    {
     "data": {
      "text/plain": [
       "LogisticRegression()"
      ]
     },
     "execution_count": 187,
     "metadata": {},
     "output_type": "execute_result"
    }
   ],
   "source": [
    "from sklearn.linear_model import LogisticRegression\n",
    "logmodel = LogisticRegression()\n",
    "logmodel.fit(X_train_scaled,y_train)"
   ]
  },
  {
   "cell_type": "markdown",
   "id": "940770f6",
   "metadata": {},
   "source": [
    "### 3.2 Random forests"
   ]
  },
  {
   "cell_type": "code",
   "execution_count": 10,
   "id": "018ab7e0",
   "metadata": {},
   "outputs": [
    {
     "data": {
      "text/plain": [
       "RandomForestClassifier()"
      ]
     },
     "execution_count": 10,
     "metadata": {},
     "output_type": "execute_result"
    }
   ],
   "source": [
    "from sklearn.ensemble import RandomForestClassifier\n",
    "rfcmodel = RandomForestClassifier(n_estimators=100)\n",
    "rfcmodel.fit(X_train_scaled, y_train)"
   ]
  },
  {
   "cell_type": "markdown",
   "id": "c7edc90f",
   "metadata": {},
   "source": [
    "### 3.3 Random forests tuned"
   ]
  },
  {
   "cell_type": "code",
   "execution_count": 11,
   "id": "c620f2b5",
   "metadata": {},
   "outputs": [
    {
     "data": {
      "text/plain": [
       "GridSearchCV(cv=5, estimator=RandomForestClassifier(), n_jobs=-1,\n",
       "             param_grid={'n_estimators': [50, 205, 360, 515, 671, 826, 981,\n",
       "                                          1136, 1292, 1447, 1602, 1757, 1913,\n",
       "                                          2068, 2223, 2378, 2534, 2689, 2844,\n",
       "                                          3000]},\n",
       "             return_train_score=True, scoring='recall')"
      ]
     },
     "execution_count": 11,
     "metadata": {},
     "output_type": "execute_result"
    }
   ],
   "source": [
    "search_grid = {'n_estimators': [int(x) for x in np.linspace(start = 50, stop = 3000, num = 20)]}\n",
    "rfc = RandomForestClassifier()\n",
    "rf_grid = GridSearchCV(estimator = rfc, param_grid = search_grid, cv = 5, verbose=0, n_jobs = -1,scoring=\"recall\", return_train_score=True)\n",
    "rf_grid.fit(X_train_scaled, y_train)"
   ]
  },
  {
   "cell_type": "markdown",
   "id": "d0014e92",
   "metadata": {},
   "source": [
    "### 3.4 Gradient boosting"
   ]
  },
  {
   "cell_type": "code",
   "execution_count": 190,
   "id": "01f153ff",
   "metadata": {},
   "outputs": [],
   "source": [
    "from sklearn.ensemble import GradientBoostingClassifier\n",
    "grbmodel = GradientBoostingClassifier(n_estimators=1000, learning_rate=1.0,max_depth=1, random_state=0).fit(X_train_scaled, y_train)"
   ]
  },
  {
   "cell_type": "markdown",
   "id": "60dead78",
   "metadata": {},
   "source": [
    "### 3.5 Knn"
   ]
  },
  {
   "cell_type": "code",
   "execution_count": 16,
   "id": "4f786b50",
   "metadata": {},
   "outputs": [
    {
     "data": {
      "text/plain": [
       "KNeighborsClassifier()"
      ]
     },
     "execution_count": 16,
     "metadata": {},
     "output_type": "execute_result"
    }
   ],
   "source": [
    "from sklearn.neighbors import KNeighborsClassifier\n",
    "knnmodel = KNeighborsClassifier(n_neighbors=5)\n",
    "knnmodel.fit(X_train_scaled, y_train)"
   ]
  },
  {
   "cell_type": "markdown",
   "id": "11152d09",
   "metadata": {},
   "source": [
    "### 3.6 Knn tuned"
   ]
  },
  {
   "cell_type": "code",
   "execution_count": 17,
   "id": "a456b072",
   "metadata": {},
   "outputs": [
    {
     "data": {
      "text/plain": [
       "GridSearchCV(cv=10, estimator=KNeighborsClassifier(),\n",
       "             param_grid={'leaf_size': [1, 2, 3, 4, 5, 6, 7, 8, 9, 10, 11, 12,\n",
       "                                       13, 14, 15, 16, 17, 18, 19, 20, 21, 22,\n",
       "                                       23, 24, 25, 26, 27, 28, 29, 30, ...],\n",
       "                         'n_neighbors': [1, 2, 3, 4, 5, 6, 7, 8, 9, 10, 11, 12,\n",
       "                                         13, 14, 15, 16, 17, 18, 19, 20, 21, 22,\n",
       "                                         23, 24, 25, 26, 27, 28, 29],\n",
       "                         'p': [1, 2]},\n",
       "             scoring='recall')"
      ]
     },
     "execution_count": 17,
     "metadata": {},
     "output_type": "execute_result"
    }
   ],
   "source": [
    "grid = dict(n_neighbors=list(range(1,30)), p = [1,2], leaf_size=list(range(1,50)))\n",
    "knn_2 = KNeighborsClassifier()\n",
    "kn_grid = GridSearchCV(knn_2, grid, cv=10, scoring=\"recall\")\n",
    "kn_grid.fit(X_train_scaled,y_train)"
   ]
  },
  {
   "cell_type": "markdown",
   "id": "5992c4d6",
   "metadata": {},
   "source": [
    "### 3.7 SVM"
   ]
  },
  {
   "cell_type": "code",
   "execution_count": 193,
   "id": "e908304b",
   "metadata": {},
   "outputs": [
    {
     "data": {
      "text/plain": [
       "SVC()"
      ]
     },
     "execution_count": 193,
     "metadata": {},
     "output_type": "execute_result"
    }
   ],
   "source": [
    "from sklearn.svm import SVC\n",
    "svmmodel = SVC()\n",
    "svmmodel.fit(X_train_scaled, y_train)"
   ]
  },
  {
   "cell_type": "markdown",
   "id": "be587864",
   "metadata": {},
   "source": [
    "## 4. Model evaluation<a id='s4'></a>\n",
    "**Evaluation criteria:** For a fraud detection model we wish to prioritize the detection of even suspect transactions. The elimination of false negatives is therefore of paramount importance. False positives will cause possibly a delay in the transaction, and a customer relations issue, but a false negative will cause a direct financial loss. The significant measure is therefore recall - the proportion of frauds detetected. We will also monitor precision to ensure incidence of false positives is not excessive."
   ]
  },
  {
   "cell_type": "code",
   "execution_count": 195,
   "id": "9680c0ca",
   "metadata": {},
   "outputs": [
    {
     "data": {
      "text/html": [
       "<div>\n",
       "<style scoped>\n",
       "    .dataframe tbody tr th:only-of-type {\n",
       "        vertical-align: middle;\n",
       "    }\n",
       "\n",
       "    .dataframe tbody tr th {\n",
       "        vertical-align: top;\n",
       "    }\n",
       "\n",
       "    .dataframe thead th {\n",
       "        text-align: right;\n",
       "    }\n",
       "</style>\n",
       "<table border=\"1\" class=\"dataframe\">\n",
       "  <thead>\n",
       "    <tr style=\"text-align: right;\">\n",
       "      <th></th>\n",
       "      <th>Model</th>\n",
       "      <th>Recall</th>\n",
       "      <th>Precision</th>\n",
       "    </tr>\n",
       "  </thead>\n",
       "  <tbody>\n",
       "    <tr>\n",
       "      <th>0</th>\n",
       "      <td>Logistic</td>\n",
       "      <td>0.701299</td>\n",
       "      <td>0.857143</td>\n",
       "    </tr>\n",
       "    <tr>\n",
       "      <th>1</th>\n",
       "      <td>Random Forest</td>\n",
       "      <td>0.818182</td>\n",
       "      <td>0.984375</td>\n",
       "    </tr>\n",
       "    <tr>\n",
       "      <th>2</th>\n",
       "      <td>RF tuned</td>\n",
       "      <td>0.805195</td>\n",
       "      <td>0.984127</td>\n",
       "    </tr>\n",
       "    <tr>\n",
       "      <th>3</th>\n",
       "      <td>Gradient boost</td>\n",
       "      <td>0.727273</td>\n",
       "      <td>0.888889</td>\n",
       "    </tr>\n",
       "    <tr>\n",
       "      <th>4</th>\n",
       "      <td>Knn</td>\n",
       "      <td>0.688312</td>\n",
       "      <td>0.841270</td>\n",
       "    </tr>\n",
       "    <tr>\n",
       "      <th>5</th>\n",
       "      <td>Knn tuned</td>\n",
       "      <td>0.831169</td>\n",
       "      <td>0.955224</td>\n",
       "    </tr>\n",
       "    <tr>\n",
       "      <th>6</th>\n",
       "      <td>SVM</td>\n",
       "      <td>0.740260</td>\n",
       "      <td>0.966102</td>\n",
       "    </tr>\n",
       "  </tbody>\n",
       "</table>\n",
       "</div>"
      ],
      "text/plain": [
       "            Model    Recall  Precision\n",
       "0        Logistic  0.701299   0.857143\n",
       "1   Random Forest  0.818182   0.984375\n",
       "2        RF tuned  0.805195   0.984127\n",
       "3  Gradient boost  0.727273   0.888889\n",
       "4             Knn  0.688312   0.841270\n",
       "5       Knn tuned  0.831169   0.955224\n",
       "6             SVM  0.740260   0.966102"
      ]
     },
     "execution_count": 195,
     "metadata": {},
     "output_type": "execute_result"
    }
   ],
   "source": [
    "models = [logmodel, rfcmodel, rf_grid, grbmodel, knnmodel, kn_grid, svmmodel]\n",
    "names = ['Logistic', 'Random Forest', 'RF tuned', 'Gradient boost', 'Knn', 'Knn tuned', 'SVM']\n",
    "recall = []\n",
    "precision = []\n",
    "for model in models:\n",
    "    predictions = model.predict(X_test_scaled)\n",
    "    score = classification_report(y_test,predictions,output_dict = True)\n",
    "    recall.append(score['True']['recall'])\n",
    "    precision.append(score['True']['precision'])\n",
    "results = pd.DataFrame({'Model':names,'Recall':recall,'Precision':precision})\n",
    "results   "
   ]
  },
  {
   "cell_type": "markdown",
   "id": "a13df0fc",
   "metadata": {},
   "source": [
    "#### Best recall performance is achieved with tuned Knn model. Tuning parameters are:"
   ]
  },
  {
   "cell_type": "code",
   "execution_count": 196,
   "id": "2637e474",
   "metadata": {},
   "outputs": [
    {
     "data": {
      "text/plain": [
       "{'algorithm': 'auto',\n",
       " 'leaf_size': 1,\n",
       " 'metric': 'minkowski',\n",
       " 'metric_params': None,\n",
       " 'n_jobs': None,\n",
       " 'n_neighbors': 1,\n",
       " 'p': 1,\n",
       " 'weights': 'uniform'}"
      ]
     },
     "execution_count": 196,
     "metadata": {},
     "output_type": "execute_result"
    }
   ],
   "source": [
    "kn_grid.best_estimator_.get_params()"
   ]
  },
  {
   "cell_type": "markdown",
   "id": "ad0b0c93",
   "metadata": {},
   "source": [
    "## 5. Conclusions<a id='s5'></a>"
   ]
  },
  {
   "cell_type": "markdown",
   "id": "0ac46d18",
   "metadata": {},
   "source": [
    "Using a tuned Knn model we have achieved identification of 83% of fraud cases in the dataset provided. This still represents a substantial proportion of undetected fraud. It would be useful to benchmark this result against commercial fraud detection performance, but this information would be proprietary, and relate to real-world data rather than this artificial instructional dataset."
   ]
  },
  {
   "cell_type": "code",
   "execution_count": null,
   "id": "e2031a8a",
   "metadata": {},
   "outputs": [],
   "source": []
  }
 ],
 "metadata": {
  "kernelspec": {
   "display_name": "Python 3 (ipykernel)",
   "language": "python",
   "name": "python3"
  },
  "language_info": {
   "codemirror_mode": {
    "name": "ipython",
    "version": 3
   },
   "file_extension": ".py",
   "mimetype": "text/x-python",
   "name": "python",
   "nbconvert_exporter": "python",
   "pygments_lexer": "ipython3",
   "version": "3.9.6"
  }
 },
 "nbformat": 4,
 "nbformat_minor": 5
}
