{
 "cells": [
  {
   "cell_type": "markdown",
   "id": "b2ac77d9",
   "metadata": {},
   "source": [
    "# FRAUD CLASSIFICATION FROM CUSTOMER / TRANSACTION DATA\n",
    "## V2 using XGBoost\n",
    "**Objective** is to build a model to predict fraudulent online transactions on the basis of information about the customer and the circumstances of the transaction. Fraud costs around 2% of all online revenues, and the prevention of fraud is a major and evolving task in data science.<br><br> Two data files are provided: one with customer information and one with transaction information. They are linked by the customer's email address."
   ]
  },
  {
   "cell_type": "markdown",
   "id": "1ae67a48",
   "metadata": {},
   "source": [
    "**Contents:**\n",
    "1. [Exploratory data analysis](#s1)\n",
    "2. [Feature engineering](#s2)\n",
    "3. [Feature selection](#s3)\n",
    "3. [Model building](#s4)\n",
    "4. [Model evaluation](#s5)\n",
    "5. [Conclusions](#s6)"
   ]
  },
  {
   "cell_type": "code",
   "execution_count": 296,
   "id": "26ca05bf",
   "metadata": {},
   "outputs": [],
   "source": [
    "import pandas as pd\n",
    "import numpy as np\n",
    "import seaborn as sns\n",
    "import matplotlib.pyplot as plt\n",
    "%matplotlib inline"
   ]
  },
  {
   "cell_type": "code",
   "execution_count": 297,
   "id": "004a9810",
   "metadata": {},
   "outputs": [],
   "source": [
    "cust = pd.read_csv(\"Customer_DF.csv\",index_col=0)\n",
    "trans = pd.read_csv(\"cust_transaction_details.csv\",index_col=0)"
   ]
  },
  {
   "cell_type": "markdown",
   "id": "4a6bfd0b",
   "metadata": {},
   "source": [
    "## 1. Exploratory data analysis<a id='s1'></a>"
   ]
  },
  {
   "cell_type": "markdown",
   "id": "586aee07",
   "metadata": {},
   "source": [
    "### 1.1 Customer file\n",
    "#### Overview"
   ]
  },
  {
   "cell_type": "code",
   "execution_count": 298,
   "id": "80659d40",
   "metadata": {},
   "outputs": [
    {
     "data": {
      "text/html": [
       "<div>\n",
       "<style scoped>\n",
       "    .dataframe tbody tr th:only-of-type {\n",
       "        vertical-align: middle;\n",
       "    }\n",
       "\n",
       "    .dataframe tbody tr th {\n",
       "        vertical-align: top;\n",
       "    }\n",
       "\n",
       "    .dataframe thead th {\n",
       "        text-align: right;\n",
       "    }\n",
       "</style>\n",
       "<table border=\"1\" class=\"dataframe\">\n",
       "  <thead>\n",
       "    <tr style=\"text-align: right;\">\n",
       "      <th></th>\n",
       "      <th>customerEmail</th>\n",
       "      <th>customerPhone</th>\n",
       "      <th>customerDevice</th>\n",
       "      <th>customerIPAddress</th>\n",
       "      <th>customerBillingAddress</th>\n",
       "      <th>No_Transactions</th>\n",
       "      <th>No_Orders</th>\n",
       "      <th>No_Payments</th>\n",
       "      <th>Fraud</th>\n",
       "    </tr>\n",
       "  </thead>\n",
       "  <tbody>\n",
       "    <tr>\n",
       "      <th>0</th>\n",
       "      <td>josephhoward@yahoo.com</td>\n",
       "      <td>400-108-5415</td>\n",
       "      <td>yyeiaxpltf82440jnb3v</td>\n",
       "      <td>8.129.104.40</td>\n",
       "      <td>5493 Jones Islands\\nBrownside, CA 51896</td>\n",
       "      <td>2</td>\n",
       "      <td>2</td>\n",
       "      <td>1</td>\n",
       "      <td>False</td>\n",
       "    </tr>\n",
       "    <tr>\n",
       "      <th>1</th>\n",
       "      <td>evansjeffery@yahoo.com</td>\n",
       "      <td>1-788-091-7546</td>\n",
       "      <td>r0jpm7xaeqqa3kr6mzum</td>\n",
       "      <td>219.173.211.202</td>\n",
       "      <td>356 Elizabeth Inlet Suite 120\\nPort Joshuabury...</td>\n",
       "      <td>3</td>\n",
       "      <td>3</td>\n",
       "      <td>7</td>\n",
       "      <td>True</td>\n",
       "    </tr>\n",
       "    <tr>\n",
       "      <th>2</th>\n",
       "      <td>andersonwilliam@yahoo.com</td>\n",
       "      <td>024.420.0375</td>\n",
       "      <td>4m7h5ipl1shyavt6vv2r</td>\n",
       "      <td>67b7:3db8:67e0:3bea:b9d0:90c1:2b60:b9f0</td>\n",
       "      <td>8478 Sean Ridges Apt. 441\\nDavisberg, PR 72250</td>\n",
       "      <td>5</td>\n",
       "      <td>3</td>\n",
       "      <td>2</td>\n",
       "      <td>False</td>\n",
       "    </tr>\n",
       "    <tr>\n",
       "      <th>3</th>\n",
       "      <td>rubenjuarez@yahoo.com</td>\n",
       "      <td>670.664.8168x94985</td>\n",
       "      <td>slovx60t0i558may4ks0</td>\n",
       "      <td>95de:8565:5a66:792c:26e0:6cfb:7d87:11af</td>\n",
       "      <td>7769 Elizabeth Bridge Apt. 343\\nNortonstad, FM...</td>\n",
       "      <td>3</td>\n",
       "      <td>3</td>\n",
       "      <td>1</td>\n",
       "      <td>False</td>\n",
       "    </tr>\n",
       "    <tr>\n",
       "      <th>4</th>\n",
       "      <td>uchen@malone.com</td>\n",
       "      <td>1-981-877-0870</td>\n",
       "      <td>j0pd24k5h8dl2fqu0cz4</td>\n",
       "      <td>196.89.235.192</td>\n",
       "      <td>148 Russell Lodge Apt. 445\\nPort Jenniferside,...</td>\n",
       "      <td>7</td>\n",
       "      <td>7</td>\n",
       "      <td>6</td>\n",
       "      <td>True</td>\n",
       "    </tr>\n",
       "  </tbody>\n",
       "</table>\n",
       "</div>"
      ],
      "text/plain": [
       "               customerEmail       customerPhone        customerDevice  \\\n",
       "0     josephhoward@yahoo.com        400-108-5415  yyeiaxpltf82440jnb3v   \n",
       "1     evansjeffery@yahoo.com      1-788-091-7546  r0jpm7xaeqqa3kr6mzum   \n",
       "2  andersonwilliam@yahoo.com        024.420.0375  4m7h5ipl1shyavt6vv2r   \n",
       "3      rubenjuarez@yahoo.com  670.664.8168x94985  slovx60t0i558may4ks0   \n",
       "4           uchen@malone.com      1-981-877-0870  j0pd24k5h8dl2fqu0cz4   \n",
       "\n",
       "                         customerIPAddress  \\\n",
       "0                             8.129.104.40   \n",
       "1                          219.173.211.202   \n",
       "2  67b7:3db8:67e0:3bea:b9d0:90c1:2b60:b9f0   \n",
       "3  95de:8565:5a66:792c:26e0:6cfb:7d87:11af   \n",
       "4                           196.89.235.192   \n",
       "\n",
       "                              customerBillingAddress  No_Transactions  \\\n",
       "0            5493 Jones Islands\\nBrownside, CA 51896                2   \n",
       "1  356 Elizabeth Inlet Suite 120\\nPort Joshuabury...                3   \n",
       "2     8478 Sean Ridges Apt. 441\\nDavisberg, PR 72250                5   \n",
       "3  7769 Elizabeth Bridge Apt. 343\\nNortonstad, FM...                3   \n",
       "4  148 Russell Lodge Apt. 445\\nPort Jenniferside,...                7   \n",
       "\n",
       "   No_Orders  No_Payments  Fraud  \n",
       "0          2            1  False  \n",
       "1          3            7   True  \n",
       "2          3            2  False  \n",
       "3          3            1  False  \n",
       "4          7            6   True  "
      ]
     },
     "execution_count": 298,
     "metadata": {},
     "output_type": "execute_result"
    }
   ],
   "source": [
    "cust.head()"
   ]
  },
  {
   "cell_type": "code",
   "execution_count": 299,
   "id": "85e2b452",
   "metadata": {},
   "outputs": [
    {
     "name": "stdout",
     "output_type": "stream",
     "text": [
      "<class 'pandas.core.frame.DataFrame'>\n",
      "Int64Index: 168 entries, 0 to 167\n",
      "Data columns (total 9 columns):\n",
      " #   Column                  Non-Null Count  Dtype \n",
      "---  ------                  --------------  ----- \n",
      " 0   customerEmail           168 non-null    object\n",
      " 1   customerPhone           168 non-null    object\n",
      " 2   customerDevice          168 non-null    object\n",
      " 3   customerIPAddress       168 non-null    object\n",
      " 4   customerBillingAddress  168 non-null    object\n",
      " 5   No_Transactions         168 non-null    int64 \n",
      " 6   No_Orders               168 non-null    int64 \n",
      " 7   No_Payments             168 non-null    int64 \n",
      " 8   Fraud                   168 non-null    bool  \n",
      "dtypes: bool(1), int64(3), object(5)\n",
      "memory usage: 12.0+ KB\n"
     ]
    }
   ],
   "source": [
    "cust.info()"
   ]
  },
  {
   "cell_type": "markdown",
   "id": "2956d868",
   "metadata": {},
   "source": [
    "#### Balance of classification: imbalanced but not excessively"
   ]
  },
  {
   "cell_type": "code",
   "execution_count": 300,
   "id": "766e5a09",
   "metadata": {},
   "outputs": [
    {
     "name": "stdout",
     "output_type": "stream",
     "text": [
      "Mean fraud level: 0.363\n"
     ]
    }
   ],
   "source": [
    "print(f\"Mean fraud level: {cust['Fraud'].mean():.3f}\")"
   ]
  },
  {
   "cell_type": "markdown",
   "id": "2951fd32",
   "metadata": {},
   "source": [
    "#### Descriptive features (Email, Phone, Device, IPAddress, BillingAddress):"
   ]
  },
  {
   "cell_type": "code",
   "execution_count": 301,
   "id": "85424272",
   "metadata": {},
   "outputs": [
    {
     "data": {
      "text/plain": [
       "customerEmail             161\n",
       "customerPhone             168\n",
       "customerDevice            168\n",
       "customerIPAddress         165\n",
       "customerBillingAddress    166\n",
       "dtype: int64"
      ]
     },
     "execution_count": 301,
     "metadata": {},
     "output_type": "execute_result"
    }
   ],
   "source": [
    "cust.select_dtypes('object').nunique()"
   ]
  },
  {
   "cell_type": "markdown",
   "id": "599d035c",
   "metadata": {},
   "source": [
    "#### How can these feature be used?\n",
    "* Email can possibly be used by extracting domain.\n",
    "* Phone will be of no use. Porting of numbers makes it extremely difficult to pin down whether the number is fixed, contract mobile or pay as you go. International dialling codes are not uniformly included in the field. \n",
    "* Device ID will also be of no use - cannot be matched to IMEI format\n",
    "* IP address could be used to extract country of transaction\n",
    "* Billing address of no use"
   ]
  },
  {
   "cell_type": "markdown",
   "id": "e2855fad",
   "metadata": {},
   "source": [
    "#### Numeric features (No_Transactions, No_Orders, No_Payments)"
   ]
  },
  {
   "cell_type": "code",
   "execution_count": 302,
   "id": "16fb0c26",
   "metadata": {},
   "outputs": [
    {
     "data": {
      "image/png": "[encoded data removed]",
      "text/plain": [
       "<Figure size 1440x360 with 3 Axes>"
      ]
     },
     "metadata": {
      "needs_background": "light"
     },
     "output_type": "display_data"
    }
   ],
   "source": [
    "num_cust = cust.select_dtypes(\"int64\")\n",
    "n = len(num_cust.columns)\n",
    "fig, axs = plt.subplots(1, n, figsize=(20, 5))\n",
    "i=0\n",
    "for col in num_cust.columns:\n",
    "    axs[i].hist(num_cust[col])\n",
    "    axs[i].set_title(col)\n",
    "    i = i+1"
   ]
  },
  {
   "cell_type": "markdown",
   "id": "6647dd6d",
   "metadata": {},
   "source": [
    "All well-behaved"
   ]
  },
  {
   "cell_type": "markdown",
   "id": "11f4f2b6",
   "metadata": {},
   "source": [
    "### 1.2 Transaction file\n",
    "#### Overview"
   ]
  },
  {
   "cell_type": "code",
   "execution_count": 303,
   "id": "b6ad3568",
   "metadata": {},
   "outputs": [
    {
     "data": {
      "text/html": [
       "<div>\n",
       "<style scoped>\n",
       "    .dataframe tbody tr th:only-of-type {\n",
       "        vertical-align: middle;\n",
       "    }\n",
       "\n",
       "    .dataframe tbody tr th {\n",
       "        vertical-align: top;\n",
       "    }\n",
       "\n",
       "    .dataframe thead th {\n",
       "        text-align: right;\n",
       "    }\n",
       "</style>\n",
       "<table border=\"1\" class=\"dataframe\">\n",
       "  <thead>\n",
       "    <tr style=\"text-align: right;\">\n",
       "      <th></th>\n",
       "      <th>customerEmail</th>\n",
       "      <th>transactionId</th>\n",
       "      <th>orderId</th>\n",
       "      <th>paymentMethodId</th>\n",
       "      <th>paymentMethodRegistrationFailure</th>\n",
       "      <th>paymentMethodType</th>\n",
       "      <th>paymentMethodProvider</th>\n",
       "      <th>transactionAmount</th>\n",
       "      <th>transactionFailed</th>\n",
       "      <th>orderState</th>\n",
       "    </tr>\n",
       "  </thead>\n",
       "  <tbody>\n",
       "    <tr>\n",
       "      <th>0</th>\n",
       "      <td>josephhoward@yahoo.com</td>\n",
       "      <td>a9lcj51r</td>\n",
       "      <td>vjbdvd</td>\n",
       "      <td>wt07xm68b</td>\n",
       "      <td>1</td>\n",
       "      <td>card</td>\n",
       "      <td>JCB 16 digit</td>\n",
       "      <td>18</td>\n",
       "      <td>0</td>\n",
       "      <td>pending</td>\n",
       "    </tr>\n",
       "    <tr>\n",
       "      <th>1</th>\n",
       "      <td>josephhoward@yahoo.com</td>\n",
       "      <td>y4wcv03i</td>\n",
       "      <td>yp6x27</td>\n",
       "      <td>wt07xm68b</td>\n",
       "      <td>1</td>\n",
       "      <td>card</td>\n",
       "      <td>JCB 16 digit</td>\n",
       "      <td>26</td>\n",
       "      <td>0</td>\n",
       "      <td>fulfilled</td>\n",
       "    </tr>\n",
       "    <tr>\n",
       "      <th>2</th>\n",
       "      <td>evansjeffery@yahoo.com</td>\n",
       "      <td>5mi94sfw</td>\n",
       "      <td>nlghpa</td>\n",
       "      <td>41ug157xz</td>\n",
       "      <td>0</td>\n",
       "      <td>bitcoin</td>\n",
       "      <td>American Express</td>\n",
       "      <td>45</td>\n",
       "      <td>0</td>\n",
       "      <td>fulfilled</td>\n",
       "    </tr>\n",
       "    <tr>\n",
       "      <th>3</th>\n",
       "      <td>evansjeffery@yahoo.com</td>\n",
       "      <td>br8ba1nu</td>\n",
       "      <td>uw0eeb</td>\n",
       "      <td>41ug157xz</td>\n",
       "      <td>0</td>\n",
       "      <td>bitcoin</td>\n",
       "      <td>American Express</td>\n",
       "      <td>23</td>\n",
       "      <td>0</td>\n",
       "      <td>fulfilled</td>\n",
       "    </tr>\n",
       "    <tr>\n",
       "      <th>4</th>\n",
       "      <td>evansjeffery@yahoo.com</td>\n",
       "      <td>a33145ss</td>\n",
       "      <td>bn44oh</td>\n",
       "      <td>y3xp697jx</td>\n",
       "      <td>1</td>\n",
       "      <td>bitcoin</td>\n",
       "      <td>VISA 16 digit</td>\n",
       "      <td>43</td>\n",
       "      <td>1</td>\n",
       "      <td>fulfilled</td>\n",
       "    </tr>\n",
       "  </tbody>\n",
       "</table>\n",
       "</div>"
      ],
      "text/plain": [
       "            customerEmail transactionId orderId paymentMethodId  \\\n",
       "0  josephhoward@yahoo.com      a9lcj51r  vjbdvd       wt07xm68b   \n",
       "1  josephhoward@yahoo.com      y4wcv03i  yp6x27       wt07xm68b   \n",
       "2  evansjeffery@yahoo.com      5mi94sfw  nlghpa       41ug157xz   \n",
       "3  evansjeffery@yahoo.com      br8ba1nu  uw0eeb       41ug157xz   \n",
       "4  evansjeffery@yahoo.com      a33145ss  bn44oh       y3xp697jx   \n",
       "\n",
       "   paymentMethodRegistrationFailure paymentMethodType paymentMethodProvider  \\\n",
       "0                                 1              card          JCB 16 digit   \n",
       "1                                 1              card          JCB 16 digit   \n",
       "2                                 0           bitcoin      American Express   \n",
       "3                                 0           bitcoin      American Express   \n",
       "4                                 1           bitcoin         VISA 16 digit   \n",
       "\n",
       "   transactionAmount  transactionFailed orderState  \n",
       "0                 18                  0    pending  \n",
       "1                 26                  0  fulfilled  \n",
       "2                 45                  0  fulfilled  \n",
       "3                 23                  0  fulfilled  \n",
       "4                 43                  1  fulfilled  "
      ]
     },
     "execution_count": 303,
     "metadata": {},
     "output_type": "execute_result"
    }
   ],
   "source": [
    "trans.head()"
   ]
  },
  {
   "cell_type": "code",
   "execution_count": 304,
   "id": "17d28eaa",
   "metadata": {},
   "outputs": [],
   "source": [
    "# Convert paymentMethodRegistrationFailure\tand transactionFailed to Boolean\n",
    "trans['paymentMethodRegistrationFailure'] = trans['paymentMethodRegistrationFailure']==1\n",
    "trans['transactionFailed'] = trans['transactionFailed']==1"
   ]
  },
  {
   "cell_type": "code",
   "execution_count": 305,
   "id": "02ef3599",
   "metadata": {},
   "outputs": [
    {
     "name": "stdout",
     "output_type": "stream",
     "text": [
      "<class 'pandas.core.frame.DataFrame'>\n",
      "Int64Index: 623 entries, 0 to 622\n",
      "Data columns (total 10 columns):\n",
      " #   Column                            Non-Null Count  Dtype \n",
      "---  ------                            --------------  ----- \n",
      " 0   customerEmail                     623 non-null    object\n",
      " 1   transactionId                     623 non-null    object\n",
      " 2   orderId                           623 non-null    object\n",
      " 3   paymentMethodId                   623 non-null    object\n",
      " 4   paymentMethodRegistrationFailure  623 non-null    bool  \n",
      " 5   paymentMethodType                 623 non-null    object\n",
      " 6   paymentMethodProvider             623 non-null    object\n",
      " 7   transactionAmount                 623 non-null    int64 \n",
      " 8   transactionFailed                 623 non-null    bool  \n",
      " 9   orderState                        623 non-null    object\n",
      "dtypes: bool(2), int64(1), object(7)\n",
      "memory usage: 45.0+ KB\n"
     ]
    }
   ],
   "source": [
    "trans.info()"
   ]
  },
  {
   "cell_type": "markdown",
   "id": "9f7dd6d0",
   "metadata": {},
   "source": [
    "#### Descriptive features"
   ]
  },
  {
   "cell_type": "code",
   "execution_count": 306,
   "id": "ece0ad0a",
   "metadata": {},
   "outputs": [
    {
     "data": {
      "text/plain": [
       "customerEmail            136\n",
       "transactionId            623\n",
       "orderId                  478\n",
       "paymentMethodId          237\n",
       "paymentMethodType          4\n",
       "paymentMethodProvider     10\n",
       "orderState                 3\n",
       "dtype: int64"
      ]
     },
     "execution_count": 306,
     "metadata": {},
     "output_type": "execute_result"
    }
   ],
   "source": [
    "trans.select_dtypes(\"object\").nunique()"
   ]
  },
  {
   "cell_type": "markdown",
   "id": "a0666b18",
   "metadata": {},
   "source": [
    "#### How can these features be used?\n",
    "* customerEmail is link to cust file.\n",
    "* The three ..Id features are system specific and uninformative\n",
    "* paymentMethodType, paymentMethodProvider and orderState are all potentially useful."
   ]
  },
  {
   "cell_type": "markdown",
   "id": "5ee97ed0",
   "metadata": {},
   "source": [
    "#### Numeric feature"
   ]
  },
  {
   "cell_type": "code",
   "execution_count": 307,
   "id": "abb2400c",
   "metadata": {},
   "outputs": [
    {
     "data": {
      "image/png": "[encoded data removed]",
      "text/plain": [
       "<Figure size 432x288 with 1 Axes>"
      ]
     },
     "metadata": {
      "needs_background": "light"
     },
     "output_type": "display_data"
    }
   ],
   "source": [
    "plot = plt.boxplot(trans['transactionAmount'])"
   ]
  },
  {
   "cell_type": "code",
   "execution_count": 308,
   "id": "369ad647",
   "metadata": {},
   "outputs": [
    {
     "name": "stdout",
     "output_type": "stream",
     "text": [
      "No of outliers: 1\n"
     ]
    }
   ],
   "source": [
    "# There is an outlier! Remove it\n",
    "print(f\"No of outliers: {sum(trans['transactionAmount'] > 100)}\")\n",
    "trans = trans.loc[trans['transactionAmount'] <= 100]"
   ]
  },
  {
   "cell_type": "markdown",
   "id": "5078060d",
   "metadata": {},
   "source": [
    "## 2. Feature engineering<a id='s2'></a>\n",
    "Following the exploratory data analysis, the following tasks will be completed to engineer the required data set.<br>\n",
    "Cust:<br> \n",
    "1. Join datasets on unique email\n",
    "1. Extract domain from email address column and group low frequency domains as \"other\"\n",
    "5. Extract country field from IPAddress and group low frequency countries as \"other\"\n",
    "7. Keep all four numeric columns\n",
    "6. Drop Billing, customer phone, device, IPAddress, email address, Id columns\n",
    "7. Convert categorical variables to one-hot encoding"
   ]
  },
  {
   "cell_type": "code",
   "execution_count": 309,
   "id": "bcd642ba",
   "metadata": {},
   "outputs": [],
   "source": [
    "# Join datasets on unique email\n",
    "cust.drop_duplicates(subset='customerEmail', keep='first', inplace=True)\n",
    "fraudData = trans.merge(cust, how='left', on='customerEmail')\n",
    "#\n",
    "# Extract domain from email address column and group low frequency domains as \"other\"\n",
    "fraudData['domain'] = [add.split('@')[1] for add in fraudData['customerEmail']]\n",
    "domlist = fraudData.groupby(by='domain').size().sort_values(ascending=False).head(5).index.tolist()\n",
    "fraudData.loc[[d not in domlist for d in fraudData['domain']], 'domain'] = 'Other-domain'\n",
    "#\n",
    "# Extract country field from IPAddress and group low frequency countries as \"other\" \n",
    "ipcountry= pd.read_csv(\"ipcountry.csv\")[['IP','Country']].rename(columns={'IP': 'customerIPAddress'})\n",
    "fraudData = fraudData.merge(ipcountry, how='left', on='customerIPAddress')\n",
    "countrylist = fraudData.groupby(by='Country').size().sort_values(ascending=False).head(5).index.tolist()\n",
    "fraudData.loc[[c not in countrylist for c in fraudData['Country']], 'Country'] = 'Other-country'\n",
    "#\n",
    "# Drop Billing, customer phone, device, IPAddress, email address, Id columns\n",
    "fraudData.drop(['customerEmail', 'transactionId', 'orderId', 'paymentMethodId',\n",
    "       'customerPhone', 'customerDevice', 'customerIPAddress',\n",
    "       'customerBillingAddress'], axis=1, inplace=True)\n",
    "#\n",
    "# Convert Booleans to integer\n",
    "for col in fraudData.select_dtypes(\"bool\"): fraudData[col] = fraudData[col]*1\n",
    "#\n",
    "# Convert categorical variables to one-hot encoded\n",
    "for col in fraudData.select_dtypes(\"object\"): \n",
    "    fraudData = pd.concat([fraudData,pd.get_dummies(fraudData[col],drop_first=False)],axis=1)\n",
    "    fraudData.drop(col, axis=1, inplace=True)"
   ]
  },
  {
   "cell_type": "markdown",
   "id": "2c848e13",
   "metadata": {},
   "source": [
    "## 3. Feature selection<a id='s3'></a>"
   ]
  },
  {
   "cell_type": "markdown",
   "id": "b8b1abd9",
   "metadata": {},
   "source": [
    "#### Test-train split"
   ]
  },
  {
   "cell_type": "code",
   "execution_count": 313,
   "id": "f1e44074",
   "metadata": {},
   "outputs": [],
   "source": [
    "from sklearn.model_selection import train_test_split\n",
    "X_train, X_test, y_train, y_test = train_test_split(fraudData.drop('Fraud',axis=1), \n",
    "                fraudData['Fraud'], test_size=0.30, random_state=101,stratify=None)"
   ]
  },
  {
   "cell_type": "markdown",
   "id": "73b650ae",
   "metadata": {},
   "source": [
    "#### Chi-squared test on categorical features"
   ]
  },
  {
   "cell_type": "code",
   "execution_count": 314,
   "id": "ae602947",
   "metadata": {},
   "outputs": [
    {
     "data": {
      "text/plain": [
       "<AxesSubplot:>"
      ]
     },
     "execution_count": 314,
     "metadata": {},
     "output_type": "execute_result"
    },
    {
     "data": {
      "image/png": "[encoded data removed]",
      "text/plain": [
       "<Figure size 936x360 with 1 Axes>"
      ]
     },
     "metadata": {
      "needs_background": "light"
     },
     "output_type": "display_data"
    }
   ],
   "source": [
    "from sklearn.feature_selection import chi2\n",
    "cat_features = X_train.drop([\"transactionAmount\",\"No_Transactions\",\"No_Orders\",\"No_Payments\"],axis=1)\n",
    "chi_scores = chi2(cat_features,y_train)\n",
    "p_values = pd.Series(chi_scores[1],index = cat_features.columns)\n",
    "p_values.sort_values(ascending = False , inplace = True)\n",
    "plt.rcParams['figure.figsize'] = [13, 5]\n",
    "p_values.plot.bar()"
   ]
  },
  {
   "cell_type": "markdown",
   "id": "61c2b0c7",
   "metadata": {},
   "source": [
    "#### Drop features with p-value greater than 0.2"
   ]
  },
  {
   "cell_type": "code",
   "execution_count": 315,
   "id": "e70c5299",
   "metadata": {},
   "outputs": [
    {
     "name": "stdout",
     "output_type": "stream",
     "text": [
      "Features retained = 18\n"
     ]
    }
   ],
   "source": [
    "X_train.drop(p_values[p_values > 0.2].index.tolist(),axis=1,inplace=True)\n",
    "X_test.drop(p_values[p_values > 0.2].index.tolist(),axis=1,inplace=True)\n",
    "print(f'Features retained = {len(X_train.columns)}')"
   ]
  },
  {
   "cell_type": "code",
   "execution_count": 316,
   "id": "3e39174e",
   "metadata": {},
   "outputs": [
    {
     "name": "stdout",
     "output_type": "stream",
     "text": [
      "Incidence of fraud in train set is 0.48\n"
     ]
    }
   ],
   "source": [
    "print(f'Incidence of fraud in train set is {np.mean(y_train):.3}')"
   ]
  },
  {
   "cell_type": "markdown",
   "id": "f49c8f05",
   "metadata": {},
   "source": [
    "## 4. Model building<a id='s4'></a>\n",
    "Normalise the data"
   ]
  },
  {
   "cell_type": "code",
   "execution_count": 317,
   "id": "76344476",
   "metadata": {},
   "outputs": [],
   "source": [
    "from sklearn.preprocessing import StandardScaler\n",
    "scaler = StandardScaler()\n",
    "scaler.fit(X_train)\n",
    "X_train_scaled = scaler.transform(X_train)\n",
    "X_test_scaled = scaler.transform(X_test)"
   ]
  },
  {
   "cell_type": "markdown",
   "id": "449931dd",
   "metadata": {},
   "source": [
    "Load XGBoost model and examine a range of hyperparameters:"
   ]
  },
  {
   "cell_type": "code",
   "execution_count": 325,
   "id": "27b66307",
   "metadata": {},
   "outputs": [
    {
     "name": "stdout",
     "output_type": "stream",
     "text": [
      "Model = {'colsample_bytree': 1.0, 'learning_rate': 0.7, 'max_depth': 4, 'n_estimators': 40}\n",
      "Score = 0.958\n"
     ]
    }
   ],
   "source": [
    "from sklearn.model_selection import GridSearchCV \n",
    "import xgboost as xgb\n",
    "xgb_model = xgb.XGBClassifier(use_label_encoder=False, objective = 'binary:logistic', eval_metric = 'aucpr')\n",
    "\n",
    "test_params = {\n",
    "    'max_depth':[4,6,8,10,12],\n",
    "    'n_estimators': [10,20,40,60,80],\n",
    "    'colsample_bytree': [0.3, 0.5, 0.7, 1.0],\n",
    "    'learning_rate':[0.1, 0.3, 0.5, 0.7, 0.9]\n",
    "}\n",
    "\n",
    "model = GridSearchCV(estimator = xgb_model,param_grid = test_params)\n",
    "model.fit(X_train,y_train)\n",
    "print (f'Model = {model.best_params_}')\n",
    "print(f'Score = {model.best_score_:.3}')"
   ]
  },
  {
   "cell_type": "markdown",
   "id": "bae69587",
   "metadata": {},
   "source": [
    "#### Narrow the search a bit"
   ]
  },
  {
   "cell_type": "code",
   "execution_count": 326,
   "id": "e9de541c",
   "metadata": {},
   "outputs": [
    {
     "name": "stdout",
     "output_type": "stream",
     "text": [
      "Model = {'colsample_bytree': 0.95, 'learning_rate': 0.5, 'max_depth': 5, 'n_estimators': 40}\n",
      "Score = 0.965\n"
     ]
    }
   ],
   "source": [
    "xgb_model = xgb.XGBClassifier(use_label_encoder=False, objective = 'binary:logistic', eval_metric = 'aucpr')\n",
    "\n",
    "test_params = {\n",
    "    'max_depth':[3,4,5,6],\n",
    "    'n_estimators': [30,35,40,45],\n",
    "    'colsample_bytree': [0.8, 0.85,0.9,0.95, 1.0],\n",
    "    'learning_rate':[0.5, 0.6, 0.7, 0.8, 0.9]\n",
    "}\n",
    "\n",
    "model = GridSearchCV(estimator = xgb_model,param_grid = test_params)\n",
    "model.fit(X_train,y_train)\n",
    "print (f'Model = {model.best_params_}')\n",
    "print(f'Score = {model.best_score_:.3}')"
   ]
  },
  {
   "cell_type": "code",
   "execution_count": 324,
   "id": "e2a06937",
   "metadata": {},
   "outputs": [
    {
     "name": "stdout",
     "output_type": "stream",
     "text": [
      "Model = {'colsample_bytree': 0.95, 'learning_rate': 0.5, 'max_depth': 5, 'n_estimators': 40}\n",
      "Score = 0.965\n"
     ]
    }
   ],
   "source": [
    "xgb_model = xgb.XGBClassifier(use_label_encoder=False, objective = 'binary:logistic', eval_metric = 'aucpr')\n",
    "\n",
    "test_params = {\n",
    "    'max_depth':[4,5,6,7],\n",
    "    'n_estimators': [36,38,40,42,44],\n",
    "    'colsample_bytree': [0.9,0.925, 0.95,0.975, 1.0],\n",
    "    'learning_rate':[0.3, 0.4,0.5, 0.6, 0.7]\n",
    "}\n",
    "\n",
    "model = GridSearchCV(estimator = xgb_model,param_grid = test_params)\n",
    "model.fit(X_train,y_train)\n",
    "print (f'Model = {model.best_params_}')\n",
    "print(f'Score = {model.best_score_:.3}')"
   ]
  },
  {
   "cell_type": "markdown",
   "id": "8af69ee6",
   "metadata": {},
   "source": [
    "#### Does alpha (regularisation) or gamma (min split loss) help further?"
   ]
  },
  {
   "cell_type": "code",
   "execution_count": 327,
   "id": "37e49dd8",
   "metadata": {},
   "outputs": [
    {
     "name": "stdout",
     "output_type": "stream",
     "text": [
      "Model = {'alpha': 0, 'colsample_bytree': 0.95, 'gamma': 0, 'learning_rate': 0.5, 'max_depth': 5, 'n_estimators': 40}\n",
      "Score = 0.965\n"
     ]
    }
   ],
   "source": [
    "xgb_model = xgb.XGBClassifier(use_label_encoder=False, objective = 'binary:logistic', eval_metric = 'aucpr')\n",
    "\n",
    "test_params = {\n",
    "    'max_depth':[5],\n",
    "    'n_estimators': [40],\n",
    "    'colsample_bytree': [0.95],\n",
    "    'learning_rate':[0.5],\n",
    "    'alpha':[0,0.1,0.5,1.0,5.0,10.0],\n",
    "    'gamma':[0,0.1,0.5,1.0,5.0,10.0]\n",
    "}\n",
    "\n",
    "model = GridSearchCV(estimator = xgb_model,param_grid = test_params)\n",
    "model.fit(X_train,y_train)\n",
    "print (f'Model = {model.best_params_}')\n",
    "print(f'Score = {model.best_score_:.3}')"
   ]
  },
  {
   "cell_type": "markdown",
   "id": "be587864",
   "metadata": {},
   "source": [
    "## 5. Model evaluation<a id='s5'></a>\n",
    "**Evaluation criteria:** For a fraud detection model we wish to prioritize the detection of even suspect transactions. The elimination of false negatives is therefore of paramount importance. False positives will cause possibly a delay in the transaction, and a customer relations issue, but a false negative will cause a direct financial loss. The significant measure is therefore recall - the proportion of frauds detetected. We will also look at precision to ensure incidence of false positives is not excessive."
   ]
  },
  {
   "cell_type": "code",
   "execution_count": 329,
   "id": "90447196",
   "metadata": {},
   "outputs": [
    {
     "name": "stdout",
     "output_type": "stream",
     "text": [
      "              precision    recall  f1-score   support\n",
      "\n",
      "           0       0.93      0.96      0.95       117\n",
      "           1       0.94      0.91      0.93        89\n",
      "\n",
      "    accuracy                           0.94       206\n",
      "   macro avg       0.94      0.93      0.94       206\n",
      "weighted avg       0.94      0.94      0.94       206\n",
      "\n",
      "[[112   5]\n",
      " [  8  81]]\n"
     ]
    }
   ],
   "source": [
    "preds = model.predict(X_test)\n",
    "print(classification_report(y_test, preds))\n",
    "print(confusion_matrix(y_test, preds))"
   ]
  },
  {
   "cell_type": "markdown",
   "id": "0c1ff01c",
   "metadata": {},
   "source": [
    "This mode gives us a tested accuracy of 93.6%, with a recall of 91% on fraud cases - i.e. 91% of fraud cases would be detected by this model. This represents a significant improvement on the previous version which yielded only 83% recall. Further improvements will require access to more data."
   ]
  },
  {
   "cell_type": "code",
   "execution_count": 331,
   "id": "d570aea2",
   "metadata": {},
   "outputs": [
    {
     "name": "stdout",
     "output_type": "stream",
     "text": [
      "Hong Kong             0.405280\n",
      "No_Orders             0.097683\n",
      "gmail.com             0.069506\n",
      "No_Payments           0.055951\n",
      "United States         0.054565\n",
      "Voyager               0.045433\n",
      "Discover              0.039827\n",
      "JCB 15 digit          0.035970\n",
      "No_Transactions       0.033980\n",
      "Switzerland           0.032301\n",
      "paypal                0.027194\n",
      "yahoo.com             0.025718\n",
      "reserved range        0.022640\n",
      "Other-domain          0.018818\n",
      "Maestro               0.017901\n",
      "transactionAmount     0.017233\n",
      "turner-fleming.com    0.000000\n",
      "pending               0.000000\n",
      "dtype: float32\n"
     ]
    }
   ],
   "source": [
    "importance = pd.Series(model.best_estimator_.feature_importances_)\n",
    "importance.index = X_train.columns\n",
    "print(importance.sort_values(ascending=False))"
   ]
  },
  {
   "cell_type": "markdown",
   "id": "b23287d0",
   "metadata": {},
   "source": [
    "There is a caution revealed in the importance table. Over 40% of the categorisation is attributed to one feature: Hong Kong. Did the transaction originate in Hong Kong (by IP address)? Of the original data set 84 transactions (12%) originated in Hong Kong and 100% of those are fraudulent. Clearly this makes Hong Kong a highly useful feature __*in this dataset*__, but it seems very unlikely that would be generalised to all online transactions."
   ]
  },
  {
   "cell_type": "code",
   "execution_count": 342,
   "id": "ecf9d610",
   "metadata": {},
   "outputs": [
    {
     "name": "stdout",
     "output_type": "stream",
     "text": [
      "Hong Kong transactions: 84 of which 84 were fraudulent\n"
     ]
    }
   ],
   "source": [
    "print(f\"Hong Kong transactions: {fraudData['Hong Kong'].sum()} of which {len(fraudData[(fraudData['Hong Kong']==1) & (fraudData['Fraud']==1)])} were fraudulent\")\n"
   ]
  },
  {
   "cell_type": "markdown",
   "id": "ad0b0c93",
   "metadata": {},
   "source": [
    "## 6. Conclusions<a id='s6'></a>"
   ]
  },
  {
   "cell_type": "markdown",
   "id": "0ac46d18",
   "metadata": {},
   "source": [
    "An XGBoost model with non-default parameters {'colsample_bytree': 0.95,'learning_rate': 0.5, 'max_depth': 5, 'n_estimators': 40} gives us a recall of 91% on fraud detection, which is a promising result. However the dataset seems to be unrepresentative of the universal set of online transactions. Independent data would be extremely useful to validate the model further."
   ]
  },
  {
   "cell_type": "code",
   "execution_count": null,
   "id": "e2031a8a",
   "metadata": {},
   "outputs": [],
   "source": []
  }
 ],
 "metadata": {
  "kernelspec": {
   "display_name": "Python 3 (ipykernel)",
   "language": "python",
   "name": "python3"
  },
  "language_info": {
   "codemirror_mode": {
    "name": "ipython",
    "version": 3
   },
   "file_extension": ".py",
   "mimetype": "text/x-python",
   "name": "python",
   "nbconvert_exporter": "python",
   "pygments_lexer": "ipython3",
   "version": "3.9.7"
  }
 },
 "nbformat": 4,
 "nbformat_minor": 5
}
